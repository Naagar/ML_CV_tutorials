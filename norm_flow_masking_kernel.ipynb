{
  "nbformat": 4,
  "nbformat_minor": 0,
  "metadata": {
    "colab": {
      "name": "norm_flow_masking_kernel.ipynb",
      "provenance": [],
      "collapsed_sections": []
    },
    "kernelspec": {
      "name": "python3",
      "display_name": "Python 3"
    },
    "language_info": {
      "name": "python"
    }
  },
  "cells": [
    {
      "cell_type": "markdown",
      "metadata": {
        "id": "SoumdZmM-6MT"
      },
      "source": [
        "## First, we are generating a mask and then we will use this mask to create the parameters/kernels  \n",
        "` c_in == c_out`"
      ]
    },
    {
      "cell_type": "code",
      "metadata": {
        "id": "RwjXuhceM2vR"
      },
      "source": [
        "import numpy as np\n",
        "import tensorflow as tf"
      ],
      "execution_count": 10,
      "outputs": []
    },
    {
      "cell_type": "code",
      "metadata": {
        "id": "vkTPdCiJ8rl2"
      },
      "source": [
        "x = np.ones([1,3,3,2], dtype=np.float32) # input: batchsize, height, width, n_channels\n",
        "ksize=3 # kernel size\n",
        "ksize = 2 * ksize - 1 \n",
        "kcent = (ksize - 1) // 2 # \n",
        "n_channels = 2 # no of channels"
      ],
      "execution_count": 23,
      "outputs": []
    },
    {
      "cell_type": "code",
      "metadata": {
        "id": "D6qIyCSZNouR"
      },
      "source": [
        "# function to masking the values of kernels crosponding the the block tiangular convolution-matric\n",
        "def get_conv_square_ar_mask(h, w, n_in, n_out, zerodiagonal=False):\n",
        "    \"\"\"\n",
        "    Function to get autoregressive convolution with square shape.\n",
        "    \"\"\"\n",
        "    l = (h - 1) // 2\n",
        "    m = (w - 1) // 2\n",
        "    mask = np.ones([h, w, n_in, n_out], dtype=np.float32)\n",
        "    mask[:l, :, :, :] = 0\n",
        "    mask[:, :m, :, :] = 0\n",
        "    mask[l, m, :, :] = get_linear_ar_mask(n_in, n_out, zerodiagonal)\n",
        "    return mask "
      ],
      "execution_count": 12,
      "outputs": []
    },
    {
      "cell_type": "code",
      "metadata": {
        "id": "57oCCmwlNtbl"
      },
      "source": [
        "# function to get weight matrix\n",
        "def get_conv_weight_np(filter_shape, stable_init=True, unit_testing=False):\n",
        "    weight_np = np.random.randn(*filter_shape) * 0.02\n",
        "    kcent = (filter_shape[0] - 1) // 2\n",
        "    if stable_init or unit_testing:\n",
        "        weight_np[kcent, kcent, :, :] += 1. * np.eye(filter_shape[3])\n",
        "    weight_np = weight_np.astype('float32')\n",
        "    return weight_np\n",
        "# helper function for the masking     \n",
        "def get_linear_ar_mask(n_in, n_out, zerodiagonal=False):\n",
        "    assert n_in % n_out == 0 or n_out % n_in == 0, \"%d - %d\" % (n_in, n_out)\n",
        "\n",
        "    mask = np.ones([n_in, n_out], dtype=np.float32)\n",
        "    if n_out >= n_in:\n",
        "        k = n_out // n_in\n",
        "        for i in range(n_in):\n",
        "            mask[i + 1:, i * k:(i + 1) * k] = 0\n",
        "            if zerodiagonal:\n",
        "                mask[i:i + 1, i * k:(i + 1) * k] = 0\n",
        "    else:\n",
        "        k = n_in // n_out\n",
        "        for i in range(n_out):\n",
        "            mask[(i + 1) * k:, i:i + 1] = 0\n",
        "            if zerodiagonal:\n",
        "                mask[i * k:(i + 1) * k:, i:i + 1] = 0\n",
        "    return mask"
      ],
      "execution_count": 13,
      "outputs": []
    },
    {
      "cell_type": "code",
      "metadata": {
        "id": "HAYzjk_w9Foo"
      },
      "source": [
        "# creating mask\n",
        "mask_np = get_conv_square_ar_mask(ksize, ksize, n_channels, n_channels)\n",
        "mask__np = mask_np[::-1, ::-1, ::-1, ::-1].copy()\n",
        "mask_tf = tf.constant(mask__np)\n",
        "print(mask_tf) "
      ],
      "execution_count": null,
      "outputs": []
    },
    {
      "cell_type": "code",
      "metadata": {
        "id": "mCITkrxe9UBC"
      },
      "source": [
        "pad = kcent\n",
        "# padding the input on the TOP and LEFT\n",
        "x = tf.pad(x, [[0, 0], [pad, 0], [pad, 0], [0, 0]], 'CONSTANT')\n",
        "\n",
        "# create the kernals \n",
        "kernel_shape = [ksize, ksize, n_channels, n_channels]\n",
        "\n",
        "# parameters/weights\n",
        "w_np = get_conv_weight_np(kernel_shape)\n",
        "w = tf.compat.v1.get_variable('W', dtype=tf.float32, initializer=w_np)\n",
        "# biases \n",
        "b = tf.compat.v1.get_variable('b', [n_channels],\n",
        "                            initializer=tf.zeros_initializer())\n",
        "b = tf.reshape(b, [1, 1, 1, -1])\n"
      ],
      "execution_count": 19,
      "outputs": []
    },
    {
      "cell_type": "code",
      "metadata": {
        "id": "CAwoAT2WAhLb"
      },
      "source": [
        "# applying the mask to the parameters or kernels\n",
        "w = w * mask_tf  \n",
        "# masked kernal used for the convolution\n",
        "w_s = w[:-kcent, :-kcent, :, :] "
      ],
      "execution_count": 21,
      "outputs": []
    },
    {
      "cell_type": "code",
      "metadata": {
        "colab": {
          "base_uri": "https://localhost:8080/"
        },
        "id": "_4778UvZAzxq",
        "outputId": "acd9c302-b4b2-45d0-bd78-4e9d7433ae51"
      },
      "source": [
        "#convolution\n",
        "dilation=1\n",
        "z = tf.nn.conv2d(\n",
        "                x, w_s, [1, 1, 1, 1],\n",
        "                dilations=[1, dilation, dilation, 1],\n",
        "                padding='VALID',\n",
        "                data_format='NHWC')\n",
        "print(z)"
      ],
      "execution_count": 22,
      "outputs": [
        {
          "output_type": "stream",
          "text": [
            "tf.Tensor(\n",
            "[[[[0.9964293  1.0109481 ]\n",
            "   [0.98832613 1.0002538 ]\n",
            "   [0.9634917  0.95491064]]\n",
            "\n",
            "  [[1.0288899  0.9684367 ]\n",
            "   [0.98932797 0.96075577]\n",
            "   [0.9933346  0.9121895 ]]\n",
            "\n",
            "  [[1.043368   0.9836762 ]\n",
            "   [0.94651145 1.0183473 ]\n",
            "   [0.9376938  0.997674  ]]]], shape=(1, 3, 3, 2), dtype=float32)\n"
          ],
          "name": "stdout"
        }
      ]
    }
  ]
}