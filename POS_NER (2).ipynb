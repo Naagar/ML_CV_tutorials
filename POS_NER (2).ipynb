{
  "nbformat": 4,
  "nbformat_minor": 0,
  "metadata": {
    "colab": {
      "name": "POS_NER.ipynb",
      "provenance": [],
      "collapsed_sections": []
    },
    "kernelspec": {
      "display_name": "Python 3",
      "language": "python",
      "name": "python3"
    },
    "language_info": {
      "codemirror_mode": {
        "name": "ipython",
        "version": 3
      },
      "file_extension": ".py",
      "mimetype": "text/x-python",
      "name": "python",
      "nbconvert_exporter": "python",
      "pygments_lexer": "ipython3",
      "version": "3.6.3"
    }
  },
  "cells": [
    {
      "cell_type": "markdown",
      "metadata": {
        "id": "Tw-ll7pwF4QU"
      },
      "source": [
        "### Load Packages"
      ]
    },
    {
      "cell_type": "code",
      "metadata": {
        "colab": {
          "base_uri": "https://localhost:8080/"
        },
        "id": "H7-piwdovGck",
        "outputId": "83d27095-1b8e-4574-f38b-300de05ecc08"
      },
      "source": [
        "import nltk\n",
        "nltk.download('averaged_perceptron_tagger')\n",
        "nltk.download('stopwords')\n",
        "nltk.download('punkt')\n",
        "nltk.download('maxent_ne_chunker')\n",
        "from nltk.corpus import stopwords\n",
        "from nltk.tokenize import word_tokenize, sent_tokenize\n",
        "stop_words = set(stopwords.words('english'))\n",
        "nltk.download(\"words\")"
      ],
      "execution_count": 1,
      "outputs": [
        {
          "output_type": "stream",
          "text": [
            "[nltk_data] Downloading package averaged_perceptron_tagger to\n",
            "[nltk_data]     /root/nltk_data...\n",
            "[nltk_data]   Unzipping taggers/averaged_perceptron_tagger.zip.\n",
            "[nltk_data] Downloading package stopwords to /root/nltk_data...\n",
            "[nltk_data]   Unzipping corpora/stopwords.zip.\n",
            "[nltk_data] Downloading package punkt to /root/nltk_data...\n",
            "[nltk_data]   Unzipping tokenizers/punkt.zip.\n",
            "[nltk_data] Downloading package maxent_ne_chunker to\n",
            "[nltk_data]     /root/nltk_data...\n",
            "[nltk_data]   Unzipping chunkers/maxent_ne_chunker.zip.\n",
            "[nltk_data] Downloading package words to /root/nltk_data...\n",
            "[nltk_data]   Unzipping corpora/words.zip.\n"
          ],
          "name": "stdout"
        },
        {
          "output_type": "execute_result",
          "data": {
            "text/plain": [
              "True"
            ]
          },
          "metadata": {
            "tags": []
          },
          "execution_count": 1
        }
      ]
    },
    {
      "cell_type": "markdown",
      "metadata": {
        "id": "S-YbNiUcF-8n"
      },
      "source": [
        "### Prepare Data"
      ]
    },
    {
      "cell_type": "code",
      "metadata": {
        "id": "wyrY5HrhtznB",
        "colab": {
          "base_uri": "https://localhost:8080/"
        },
        "outputId": "e55540ac-2605-4be8-f08b-b680bc251eb0"
      },
      "source": [
        "txt = \"Heavy rain continues to lash parts of western Maharashtra, Raigad and Thane districts with more than 60 barrages submerged in Kolhapur district\"\n",
        "tokenized = sent_tokenize(txt)\n",
        "print(tokenized)"
      ],
      "execution_count": 2,
      "outputs": [
        {
          "output_type": "stream",
          "text": [
            "['Heavy rain continues to lash parts of western Maharashtra, Raigad and Thane districts with more than 60 barrages submerged in Kolhapur district']\n"
          ],
          "name": "stdout"
        }
      ]
    },
    {
      "cell_type": "markdown",
      "metadata": {
        "id": "X0cYLOfzGC6t"
      },
      "source": [
        "### String Tokenization And Parts of Speech Tagging"
      ]
    },
    {
      "cell_type": "code",
      "metadata": {
        "colab": {
          "base_uri": "https://localhost:8080/"
        },
        "id": "0WlrhAWcvQH5",
        "outputId": "9076402b-e817-4932-a70b-bd6ac6710721"
      },
      "source": [
        "# Passing sentence by sentence in the for loop\n",
        "for i in tokenized:\n",
        "    # Tokenizing the sentence\n",
        "    wordsList = nltk.word_tokenize(i)\n",
        "    # Removing stop words like is, on , and, ...\n",
        "    wordsList = [w for w in wordsList if not w in stop_words]\n",
        "    # Task1 Call the method that does Parts of Speech Tagging from nltk library and the pass the wordsList\n",
        "    # tagged = ...\n",
        "    # Your code here\n",
        "    \n",
        "    tagged = nltk.pos_tag(wordsList)\n",
        "    \n",
        "    print(tagged)"
      ],
      "execution_count": 3,
      "outputs": [
        {
          "output_type": "stream",
          "text": [
            "[('Heavy', 'NNP'), ('rain', 'NN'), ('continues', 'VBZ'), ('lash', 'JJ'), ('parts', 'NNS'), ('western', 'JJ'), ('Maharashtra', 'NNP'), (',', ','), ('Raigad', 'NNP'), ('Thane', 'NNP'), ('districts', 'NNS'), ('60', 'CD'), ('barrages', 'NNS'), ('submerged', 'VBN'), ('Kolhapur', 'NNP'), ('district', 'NN')]\n"
          ],
          "name": "stdout"
        }
      ]
    },
    {
      "cell_type": "code",
      "metadata": {
        "colab": {
          "base_uri": "https://localhost:8080/"
        },
        "id": "gWP2j-3lIT90",
        "outputId": "a3faa146-1d24-466e-e0e9-c7af4300d3ed"
      },
      "source": [
        "wordsList"
      ],
      "execution_count": 4,
      "outputs": [
        {
          "output_type": "execute_result",
          "data": {
            "text/plain": [
              "['Heavy',\n",
              " 'rain',\n",
              " 'continues',\n",
              " 'lash',\n",
              " 'parts',\n",
              " 'western',\n",
              " 'Maharashtra',\n",
              " ',',\n",
              " 'Raigad',\n",
              " 'Thane',\n",
              " 'districts',\n",
              " '60',\n",
              " 'barrages',\n",
              " 'submerged',\n",
              " 'Kolhapur',\n",
              " 'district']"
            ]
          },
          "metadata": {
            "tags": []
          },
          "execution_count": 4
        }
      ]
    },
    {
      "cell_type": "markdown",
      "metadata": {
        "id": "ht3vXJDb-3Ze"
      },
      "source": [
        "Representations:\n",
        "\n",
        "CC \tcoordinating conjunction\n",
        "CD \tcardinal digit\n",
        "DT \tdeterminer\n",
        "EX \texistential there\n",
        "FW \tforeign word\n",
        "IN \tpreposition/subordinating conjunction\n",
        "JJ \tThis NLTK POS Tag is an adjective (large)\n",
        "JJR \tadjective, comparative (larger)\n",
        "JJS \tadjective, superlative (largest)\n",
        "LS \tlist market\n",
        "MD \tmodal (could, will)\n",
        "NN \tnoun, singular (cat, tree)\n",
        "NNS \tnoun plural (desks)\n",
        "NNP \tproper noun, singular (sarah)\n",
        "NNPS \tproper noun, plural (indians or americans)\n",
        "PDT \tpredeterminer (all, both, half)\n",
        "POS \tpossessive ending (parent\\ 's)\n",
        "PRP \tpersonal pronoun (hers, herself, him,himself)\n",
        "PRP$ \tpossessive pronoun (her, his, mine, my, our )\n",
        "RB \tadverb (occasionally, swiftly)\n",
        "RBR \tadverb, comparative (greater)\n",
        "RBS \tadverb, superlative (biggest)\n",
        "RP \tparticle (about)\n",
        "TO \tinfinite marker (to)\n",
        "UH \tinterjection (goodbye)\n",
        "VB \tverb (ask)\n",
        "VBG \tverb gerund (judging)\n",
        "VBD \tverb past tense (pleaded)\n",
        "VBN \tverb past participle (reunified)\n",
        "VBP \tverb, present tense not 3rd person singular(wrap)\n",
        "VBZ \tverb, present tense with 3rd person singular (bases)\n",
        "WDT \twh-determiner (that, what)\n",
        "WP \twh- pronoun (who)\n",
        "WRB \twh- adverb (how) "
      ]
    },
    {
      "cell_type": "markdown",
      "metadata": {
        "id": "GA5YD9sN5F43"
      },
      "source": [
        "\n",
        "### Named Entity Recognition\n",
        "\n",
        "**Named Entity Recognition** (NER) is a standard NLP problem which involves spotting named entities (people, places, organizations etc.) from a chunk of text, and classifying them into a predefined set of categories.\n",
        "\n",
        "Refer: https://www.nltk.org/book/ch07.html"
      ]
    },
    {
      "cell_type": "code",
      "metadata": {
        "colab": {
          "base_uri": "https://localhost:8080/"
        },
        "id": "TNJBylHZ5KUe",
        "outputId": "e6626f95-a01e-4014-d14b-cf1e20034275"
      },
      "source": [
        "# Sample sentence\n",
        "\n",
        "sentence = \"Heavy rain continues to lash parts of western Maharashtra districts with more than 60 barrages submerged in Kolhapur district.\"\n",
        "\n",
        "# Sending sentence by sentence inside the loop\n",
        "for sent in nltk.sent_tokenize(sentence):\n",
        "    # We will form chunks based on the tokenized words and pos tagging\n",
        "    for chunk in nltk.ne_chunk(nltk.pos_tag(nltk.word_tokenize(sent))):\n",
        "        # The chunks will hold a attribute label if it has identified that the chunk is a Named Entity\n",
        "        if hasattr(chunk, 'label'):\n",
        "            print(chunk.label(), ' '.join(c[0] for c in chunk))"
      ],
      "execution_count": 5,
      "outputs": [
        {
          "output_type": "stream",
          "text": [
            "GPE Heavy\n",
            "GPE Kolhapur\n"
          ],
          "name": "stdout"
        }
      ]
    },
    {
      "cell_type": "markdown",
      "metadata": {
        "id": "-1el3gpd-3Zi"
      },
      "source": [
        "***NE Type \tExamples***\n",
        "ORGANIZATION \tGeorgia-Pacific Corp., \n",
        "PERSON \tEddy Bonte, President Obama\n",
        "LOCATION \tMurray River, Mount Everest\n",
        "DATE \tJune, 2008-06-29\n",
        "TIME \ttwo fifty a m, 1:30 p.m.\n",
        "MONEY \t175 million Canadian Dollars, \n",
        "PERCENT \ttwenty pct, 18.75 %\n",
        "FACILITY \tWashington Monument, Stonehenge\n",
        "GPE \tSouth East Asia, Midlothian"
      ]
    },
    {
      "cell_type": "code",
      "metadata": {
        "id": "CFRWYNpZ5ZGN",
        "colab": {
          "base_uri": "https://localhost:8080/"
        },
        "outputId": "d20e53cd-3ba0-4140-c9df-6f634cc29f3f"
      },
      "source": [
        "# Task 2 \n",
        "# List a few named entities that you can think of.\n",
        "# Check if those entities are being caputered by nltk library by passing a sentence containing that named entitiy in the above code.\n",
        "sentence = \"Sensex and Nifty were set to open in green as Nifty futures on the Singapore Exchange traded 100.5 points, or 0.64 per cent higher at 15,848. Benchmark indices snapped their four-session losing run on Friday led by gains in index majors Reliance Industries, ICICI Bank and HDFC. Sensex ended 166 points higher at 52,484. Nifty advanced 42.20 points at 15,722.\"\n",
        "for sent in nltk.sent_tokenize(sentence):\n",
        "    # We will form chunks based on the tokenized words and pos tagging\n",
        "    for chunk in nltk.ne_chunk(nltk.pos_tag(nltk.word_tokenize(sent))):\n",
        "        # The chunks will hold a attribute label if it has identified that the chunk is a Named Entity\n",
        "        if hasattr(chunk, 'label'):\n",
        "            print(chunk.label(), ' '.join(c[0] for c in chunk))"
      ],
      "execution_count": 9,
      "outputs": [
        {
          "output_type": "stream",
          "text": [
            "GPE Sensex\n",
            "PERSON Nifty\n",
            "GPE Nifty\n",
            "ORGANIZATION Singapore Exchange\n",
            "GPE Benchmark\n",
            "ORGANIZATION Reliance Industries\n",
            "ORGANIZATION ICICI Bank\n",
            "ORGANIZATION HDFC\n",
            "GPE Sensex\n",
            "PERSON Nifty\n"
          ],
          "name": "stdout"
        }
      ]
    },
    {
      "cell_type": "code",
      "metadata": {
        "id": "VulxBaFV-3Zn"
      },
      "source": [
        "# Example for other Parsers"
      ],
      "execution_count": 7,
      "outputs": []
    },
    {
      "cell_type": "code",
      "metadata": {
        "colab": {
          "base_uri": "https://localhost:8080/"
        },
        "id": "MIZFiA0e-3Zn",
        "outputId": "973e176c-0040-4958-a23f-a677413c8331"
      },
      "source": [
        "from nltk.parse.stanford import StanfordDependencyParser\n",
        "\n",
        "# Download the parser from https://nlp.stanford.edu/software/stanford-parser-4.2.0.zip\n",
        "# Extract the folder and link stanford-parser.jar\n",
        "path_jar = \"/content/sample_data/stanford-parser.jar\"\n",
        "\n",
        "# Link stanford-parser-4.2.0-models.jar\n",
        "path_models_jar = \"/content/sample_data/stanford-parser-4.2.0-models.jar\"\n",
        "\n",
        "dep_parser = StanfordDependencyParser(path_to_jar = path_jar, path_to_models_jar = path_models_jar)\n",
        "\n",
        "result = dep_parser.raw_parse(\"Heavy rain continues to lash parts of western Maharashtra, Raigad and Thane districts with more than 60 barrages submerged in Kolhapur district\")\n",
        "dependency = result.__next__()\n",
        "\n",
        "#Print the results of the parser\n",
        "print(list(dependency.triples()))"
      ],
      "execution_count": 11,
      "outputs": [
        {
          "output_type": "stream",
          "text": [
            "[(('continues', 'VBZ'), 'nsubj', ('rain', 'NN')), (('rain', 'NN'), 'amod', ('Heavy', 'JJ')), (('continues', 'VBZ'), 'xcomp', ('lash', 'VB')), (('lash', 'VB'), 'mark', ('to', 'TO')), (('lash', 'VB'), 'obj', ('parts', 'NNS')), (('parts', 'NNS'), 'nmod', ('districts', 'NNS')), (('districts', 'NNS'), 'case', ('of', 'IN')), (('districts', 'NNS'), 'amod', ('western', 'JJ')), (('districts', 'NNS'), 'compound', ('Maharashtra', 'NNP')), (('Maharashtra', 'NNP'), 'conj', ('Raigad', 'NNP')), (('Maharashtra', 'NNP'), 'conj', ('Thane', 'NNP')), (('Thane', 'NNP'), 'cc', ('and', 'CC')), (('lash', 'VB'), 'obl', ('barrages', 'NNS')), (('barrages', 'NNS'), 'case', ('with', 'IN')), (('barrages', 'NNS'), 'nummod', ('60', 'CD')), (('60', 'CD'), 'advmod', ('more', 'JJR')), (('more', 'JJR'), 'fixed', ('than', 'IN')), (('barrages', 'NNS'), 'acl', ('submerged', 'VBN')), (('submerged', 'VBN'), 'obl', ('district', 'NN')), (('district', 'NN'), 'case', ('in', 'IN')), (('district', 'NN'), 'compound', ('Kolhapur', 'NNP'))]\n"
          ],
          "name": "stdout"
        }
      ]
    },
    {
      "cell_type": "code",
      "metadata": {
        "id": "19sQVX71R5Ko",
        "colab": {
          "base_uri": "https://localhost:8080/"
        },
        "outputId": "06725c6e-bbde-4139-add9-ab966497bd0c"
      },
      "source": [
        "sentence = \"Sensex and Nifty were set to open in green as Nifty futures on the Singapore Exchange traded 100.5 points, or 0.64 per cent higher at 15,848. Benchmark indices snapped their four-session losing run on Friday led by gains in index majors Reliance Industries, ICICI Bank and HDFC. Sensex ended 166 points higher at 52,484. Nifty advanced 42.20 points at 15,722.\"\n",
        "result = dep_parser.raw_parse(sentence)\n",
        "dependency = result.__next__()\n",
        "\n",
        "#Print the results of the parser\n",
        "print(list(dependency.triples()))"
      ],
      "execution_count": 12,
      "outputs": [
        {
          "output_type": "stream",
          "text": [
            "[(('set', 'VBN'), 'nsubj:pass', ('Sensex', 'NNP')), (('Sensex', 'NNP'), 'conj', ('Nifty', 'NNP')), (('Nifty', 'NNP'), 'cc', ('and', 'CC')), (('set', 'VBN'), 'aux:pass', ('were', 'VBD')), (('set', 'VBN'), 'xcomp', ('open', 'VB')), (('open', 'VB'), 'mark', ('to', 'TO')), (('open', 'VB'), 'obl', ('futures', 'NNS')), (('futures', 'NNS'), 'case', ('in', 'IN')), (('futures', 'NNS'), 'amod', ('green', 'JJ')), (('green', 'JJ'), 'obl', ('Nifty', 'NNP')), (('Nifty', 'NNP'), 'case', ('as', 'IN')), (('open', 'VB'), 'obl', ('Exchange', 'NNP')), (('Exchange', 'NNP'), 'case', ('on', 'IN')), (('Exchange', 'NNP'), 'det', ('the', 'DT')), (('Exchange', 'NNP'), 'compound', ('Singapore', 'NNP')), (('Exchange', 'NNP'), 'acl', ('traded', 'VBN')), (('traded', 'VBN'), 'obj', ('points', 'NNS')), (('points', 'NNS'), 'nummod', ('100.5', 'CD')), (('set', 'VBN'), 'conj', ('snapped', 'VBD')), (('snapped', 'VBD'), 'cc', ('or', 'CC')), (('snapped', 'VBD'), 'obl', ('15,848', 'CD')), (('15,848', 'CD'), 'advmod', ('higher', 'RBR')), (('higher', 'RBR'), 'obl:npmod', ('cent', 'NN')), (('cent', 'NN'), 'nummod', ('0.64', 'CD')), (('cent', 'NN'), 'compound', ('per', 'NN')), (('15,848', 'CD'), 'case', ('at', 'IN')), (('snapped', 'VBD'), 'nsubj', ('indices', 'NNS')), (('indices', 'NNS'), 'compound', ('Benchmark', 'NNP')), (('snapped', 'VBD'), 'obj', ('run', 'NN')), (('run', 'NN'), 'nmod:poss', ('their', 'PRP$')), (('run', 'NN'), 'amod', ('losing', 'VBG')), (('losing', 'VBG'), 'dep', ('session', 'NN')), (('session', 'NN'), 'nummod', ('four', 'CD')), (('session', 'NN'), 'punct', ('-', 'HYPH')), (('snapped', 'VBD'), 'obl', ('Friday', 'NNP')), (('Friday', 'NNP'), 'case', ('on', 'IN')), (('Friday', 'NNP'), 'acl', ('led', 'VBN')), (('led', 'VBN'), 'obl', ('Bank', 'NNP')), (('Bank', 'NNP'), 'case', ('by', 'IN')), (('Bank', 'NNP'), 'compound', ('gains', 'NNS')), (('gains', 'NNS'), 'nmod', ('majors', 'NNS')), (('majors', 'NNS'), 'case', ('in', 'IN')), (('majors', 'NNS'), 'compound', ('index', 'NN')), (('Bank', 'NNP'), 'compound', ('Reliance', 'NNP')), (('Bank', 'NNP'), 'compound', ('Industries', 'NNP')), (('Bank', 'NNP'), 'conj', ('ICICI', 'NNP')), (('Bank', 'NNP'), 'conj', ('HDFC', 'NNP')), (('HDFC', 'NNP'), 'cc', ('and', 'CC')), (('set', 'VBN'), 'conj', ('ended', 'VBD')), (('ended', 'VBD'), 'nsubj', ('Sensex', 'NNP')), (('ended', 'VBD'), 'obl', ('52,484', 'CD')), (('52,484', 'CD'), 'advmod', ('higher', 'RBR')), (('higher', 'RBR'), 'obl:npmod', ('points', 'NNS')), (('points', 'NNS'), 'nummod', ('166', 'CD')), (('52,484', 'CD'), 'case', ('at', 'IN')), (('set', 'VBN'), 'conj', ('advanced', 'VBD')), (('advanced', 'VBD'), 'nsubj', ('Nifty', 'NNP')), (('advanced', 'VBD'), 'obj', ('points', 'NNS')), (('points', 'NNS'), 'nummod', ('42.20', 'CD')), (('advanced', 'VBD'), 'obl', ('15,722', 'CD')), (('15,722', 'CD'), 'case', ('at', 'IN'))]\n"
          ],
          "name": "stdout"
        }
      ]
    },
    {
      "cell_type": "code",
      "metadata": {
        "id": "gTPkmwzOTb9c"
      },
      "source": [
        ""
      ],
      "execution_count": null,
      "outputs": []
    }
  ]
}