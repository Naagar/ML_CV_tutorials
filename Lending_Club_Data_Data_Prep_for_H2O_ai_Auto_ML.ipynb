{
  "nbformat": 4,
  "nbformat_minor": 0,
  "metadata": {
    "kernelspec": {
      "display_name": "Python 3",
      "language": "python",
      "name": "python3"
    },
    "language_info": {
      "codemirror_mode": {
        "name": "ipython",
        "version": 3
      },
      "file_extension": ".py",
      "mimetype": "text/x-python",
      "name": "python",
      "nbconvert_exporter": "python",
      "pygments_lexer": "ipython3",
      "version": "3.7.2"
    },
    "colab": {
      "name": "Lending Club Data - Data Prep for H2O.ai Auto ML.ipynb",
      "provenance": []
    }
  },
  "cells": [
    {
      "cell_type": "markdown",
      "metadata": {
        "id": "N3NZAXRrwkcd"
      },
      "source": [
        "# Lending Club Data - Data Prep for H2O.ai Auto ML\n",
        "\n",
        "**Lending Club** publishes loan data periodically for public use. The anonymized data has information on different loans issued, such as loan_id, loan_amount, what loan grade, credit score etc., and also a **loan_status** variable that indicates whether a loan was _Fully Paid_ ,_Charged Off_ (written off because of default), _Late__by__X__months_ etc., \n",
        "\n",
        "This python notebook tutorial shows:\n",
        "- How to get the data from Lending Club site\n",
        "- Keep rows for only two classes - to make it a simple binary classification problem\n",
        "- Drop some Target Leakage Columns\n",
        "- Create a train and test data set\n"
      ]
    },
    {
      "cell_type": "markdown",
      "metadata": {
        "id": "7YpcXGf_wkch"
      },
      "source": [
        "### Import numpy, pandas, sklearn etc., to do the data munging\n"
      ]
    },
    {
      "cell_type": "code",
      "metadata": {
        "id": "Mux1Ko04wkci"
      },
      "source": [
        "import numpy as np\n",
        "import pandas as pd\n",
        "\n",
        "import requests\n",
        "import math\n",
        "from sklearn import model_selection\n"
      ],
      "execution_count": 1,
      "outputs": []
    },
    {
      "cell_type": "markdown",
      "metadata": {
        "id": "Wy8s0YNkwkcj"
      },
      "source": [
        "### Download 2014 Loan Data from Lending Club Website\n",
        "\n",
        "The url provided in the wget command is where the 2014 loan data is. You can also get loan data over different periods from https://www.lendingclub.com/info/download-data.action \n",
        "\n"
      ]
    },
    {
      "cell_type": "code",
      "metadata": {
        "colab": {
          "base_uri": "https://localhost:8080/"
        },
        "id": "rMxTQgDdwkcj",
        "outputId": "ae30353a-b759-4fa3-dd9e-7d27184e7af3"
      },
      "source": [
        "!rm LoanStats3c.csv.zip\n",
        "!wget --no-check-certificate \"https://resources.lendingclub.com/LoanStats3c.csv.zip\""
      ],
      "execution_count": 2,
      "outputs": [
        {
          "output_type": "stream",
          "text": [
            "rm: cannot remove 'LoanStats3c.csv.zip': No such file or directory\n",
            "--2021-06-19 15:01:16--  https://resources.lendingclub.com/LoanStats3c.csv.zip\n",
            "Resolving resources.lendingclub.com (resources.lendingclub.com)... 35.164.161.63, 44.236.155.144, 44.236.27.127\n",
            "Connecting to resources.lendingclub.com (resources.lendingclub.com)|35.164.161.63|:443... connected.\n",
            "HTTP request sent, awaiting response... 200 OK\n",
            "Length: unspecified [application/zip]\n",
            "Saving to: ‘LoanStats3c.csv.zip’\n",
            "\n",
            "LoanStats3c.csv.zip     [ <=>                ]  37.20M  5.72MB/s    in 6.9s    \n",
            "\n",
            "2021-06-19 15:01:24 (5.36 MB/s) - ‘LoanStats3c.csv.zip’ saved [39009667]\n",
            "\n"
          ],
          "name": "stdout"
        }
      ]
    },
    {
      "cell_type": "markdown",
      "metadata": {
        "id": "QdxUM-wEwkck"
      },
      "source": [
        "### Data Dictionary - for Lending Club Data\n",
        "We next display the data dictionary of the Lending Club Data. \n",
        "\n",
        "Note: Though there are 153 columns in the data dictionary, the actual data (in the next section) has only 145 columns"
      ]
    },
    {
      "cell_type": "code",
      "metadata": {
        "id": "PPfMRp1jwkcl"
      },
      "source": [
        "#!pip install xlrd  # Uncomment this, if you get errors parsing XLSX\n",
        "pd.set_option('expand_frame_repr', True)\n",
        "pd.set_option('max_colwidth',9999)\n",
        "pd.set_option('display.max_columns',9999)\n",
        "pd.set_option('display.max_rows',9999)\n",
        "data_dictionary = pd.read_excel(\"https://resources.lendingclub.com/LCDataDictionary.xlsx\")\n",
        "\n",
        "data_dictionary"
      ],
      "execution_count": null,
      "outputs": []
    },
    {
      "cell_type": "markdown",
      "metadata": {
        "id": "7gRJKBEMwkcm"
      },
      "source": [
        "### Munging the data in Pandas\n",
        "\n",
        "We first read the data into a Pandas data frame. We skip reading the very first row as it has some non-header information. The target column **loan_status** has really 4 unique values, but we keep only the rows with **Fully Paid** and **Charged Off** status, to make it into a binary classification problem."
      ]
    },
    {
      "cell_type": "code",
      "metadata": {
        "colab": {
          "base_uri": "https://localhost:8080/"
        },
        "id": "cU1KTC_Fwkcm",
        "outputId": "fe8c2b39-3702-4385-914e-15bce009a8f3"
      },
      "source": [
        "# Very first row has non-header data and hence skipping it. Read to a data frame\n",
        "# Fix the Mon-Year on one column to be readable\n",
        "\n",
        "def parse_dates(x):\n",
        "    return datetime.strptime(x, \"%b-%d\")\n",
        "\n",
        "lc = pd.read_csv(\"LoanStats3c.csv.zip\", skiprows=1,verbose=False, parse_dates=['issue_d'],low_memory=False) \n",
        "lc.shape"
      ],
      "execution_count": 16,
      "outputs": [
        {
          "output_type": "execute_result",
          "data": {
            "text/plain": [
              "(235631, 144)"
            ]
          },
          "metadata": {
            "tags": []
          },
          "execution_count": 16
        }
      ]
    },
    {
      "cell_type": "code",
      "metadata": {
        "colab": {
          "base_uri": "https://localhost:8080/"
        },
        "id": "0sCVbjQAwkcn",
        "outputId": "e87b2e54-ab48-4c42-91be-2825e4c0d546"
      },
      "source": [
        "lc.loan_status.unique()"
      ],
      "execution_count": 17,
      "outputs": [
        {
          "output_type": "execute_result",
          "data": {
            "text/plain": [
              "array(['Fully Paid', 'Charged Off', nan], dtype=object)"
            ]
          },
          "metadata": {
            "tags": []
          },
          "execution_count": 17
        }
      ]
    },
    {
      "cell_type": "code",
      "metadata": {
        "colab": {
          "base_uri": "https://localhost:8080/"
        },
        "id": "hztJiasKwkcn",
        "outputId": "d618ee32-9798-44bc-b79b-1b4aec571546"
      },
      "source": [
        "# Keep just \"Fully Paid\" and \"Charged Off\" to make it a simple 'Yes' or 'No' - binary classification problem\n",
        "\n",
        "lc = lc[lc.loan_status.isin(['Fully Paid','Charged Off'])]\n",
        "lc.loan_status.unique()"
      ],
      "execution_count": 18,
      "outputs": [
        {
          "output_type": "execute_result",
          "data": {
            "text/plain": [
              "array(['Fully Paid', 'Charged Off'], dtype=object)"
            ]
          },
          "metadata": {
            "tags": []
          },
          "execution_count": 18
        }
      ]
    },
    {
      "cell_type": "code",
      "metadata": {
        "id": "fTB4JGShwkcn"
      },
      "source": [
        "# Drop the columns from the data frame that are Target Leakage ones\n",
        "# Target Leakage columns are generally created in hindsight by analysts/data engineers/operations after an outcome \n",
        "# was detected in historical data. If we don't remove them now, they would climb to the top of the feature list after a model is built and \n",
        "# falsely increase the accuracy to 95% :) \n",
        "#\n",
        "# In Production or real life scoring environment, don't expect these columns to be available at scoring time\n",
        "# , that is,when someone applies for a loan. So we don't train on those columns ...\n",
        "\n",
        "ignored_cols = [ \n",
        "                'out_prncp',                 # Remaining outstanding principal for total amount funded\n",
        "                'out_prncp_inv',             # Remaining outstanding principal for portion of total amount \n",
        "                                             # funded by investors\n",
        "                'total_pymnt',               # Payments received to date for total amount funded\n",
        "                'total_pymnt_inv',           # Payments received to date for portion of total amount \n",
        "                                             # funded by investors\n",
        "                'total_rec_prncp',           # Principal received to date \n",
        "                'total_rec_int',             # Interest received to date\n",
        "                'total_rec_late_fee',        # Late fees received to date\n",
        "                'recoveries',                # post charge off gross recovery\n",
        "                'collection_recovery_fee',   # post charge off collection fee\n",
        "                'last_pymnt_d',              # Last month payment was received\n",
        "                'last_pymnt_amnt',           # Last total payment amount received\n",
        "                'next_pymnt_d',              # Next scheduled payment date\n",
        "                'last_credit_pull_d',        # The most recent month LC pulled credit for this loan\n",
        "                'settlement_term',           # The number of months that the borrower will be on the settlement plan\n",
        "                'settlement_date',           # The date that the borrower agrees to the settlement plan\n",
        "                'settlement_amount',         # The loan amount that the borrower has agreed to settle for\n",
        "                'settlement_percentage',     # The settlement amount as a percentage of the payoff balance amount on the loan\n",
        "                'settlement_status',         # The status of the borrower’s settlement plan. Possible values are: \n",
        "                                             # COMPLETE, ACTIVE, BROKEN, CANCELLED, DENIED, DRAF\n",
        "                'debt_settlement_flag',      # Flags whether or not the borrower, who has charged-off, is working with \n",
        "                                             # a debt-settlement company.\n",
        "                'debt_settlement_flag_date'  # The most recent date that the Debt_Settlement_Flag has been set\n",
        "                ]\n",
        "\n",
        "lc = lc.drop(columns=ignored_cols, axis = 1)"
      ],
      "execution_count": 19,
      "outputs": []
    },
    {
      "cell_type": "code",
      "metadata": {
        "colab": {
          "base_uri": "https://localhost:8080/"
        },
        "id": "QS6FMuiOwkco",
        "outputId": "988d11a8-2d95-4d7e-a737-031da3846e5f"
      },
      "source": [
        "# After dropping Target Leakage columns, we have 223K rows and 125 columns\n",
        "lc.shape"
      ],
      "execution_count": 20,
      "outputs": [
        {
          "output_type": "execute_result",
          "data": {
            "text/plain": [
              "(235629, 124)"
            ]
          },
          "metadata": {
            "tags": []
          },
          "execution_count": 20
        }
      ]
    },
    {
      "cell_type": "markdown",
      "metadata": {
        "id": "G6F5OlsQwkcp"
      },
      "source": [
        "### Split to Train and Test - 80%/20%  and write it to two zipped CSV files"
      ]
    },
    {
      "cell_type": "code",
      "metadata": {
        "colab": {
          "base_uri": "https://localhost:8080/"
        },
        "id": "__pKnWDlwkcp",
        "outputId": "81899791-7d04-4a76-8817-b85d5f0a6bf5"
      },
      "source": [
        "import csv\n",
        "import os \n",
        "\n",
        "train_path = os.getcwd() + \"/train_lc.csv.zip\"\n",
        "test_path = os.getcwd() + \"/test_lc.csv.zip\"\n",
        "print(lc.shape)\n",
        "train_lc, test_lc = model_selection.train_test_split(lc, test_size=0.2, random_state=10,stratify=lc['loan_status'])\n",
        "train_lc.to_csv(train_path, index=False,compression=\"zip\")\n",
        "test_lc.to_csv(test_path, index=False,compression=\"zip\")\n"
      ],
      "execution_count": 21,
      "outputs": [
        {
          "output_type": "stream",
          "text": [
            "(235629, 124)\n"
          ],
          "name": "stdout"
        }
      ]
    },
    {
      "cell_type": "code",
      "metadata": {
        "colab": {
          "base_uri": "https://localhost:8080/"
        },
        "id": "ZYGopRUwwkcq",
        "outputId": "fbcbe0b2-800e-4a59-f9ca-f5d76f669aca"
      },
      "source": [
        "# Let's look at the shape of training data\n",
        "train_lc.shape"
      ],
      "execution_count": 22,
      "outputs": [
        {
          "output_type": "execute_result",
          "data": {
            "text/plain": [
              "(188503, 124)"
            ]
          },
          "metadata": {
            "tags": []
          },
          "execution_count": 22
        }
      ]
    },
    {
      "cell_type": "code",
      "metadata": {
        "id": "uQKENlSTwkcq"
      },
      "source": [
        "# Let's look at the shape of test data"
      ],
      "execution_count": null,
      "outputs": []
    },
    {
      "cell_type": "code",
      "metadata": {
        "colab": {
          "base_uri": "https://localhost:8080/"
        },
        "id": "BDto2J0mwkcq",
        "outputId": "630bb011-85ce-4641-cea1-8d403af78290"
      },
      "source": [
        "test_lc.shape"
      ],
      "execution_count": 23,
      "outputs": [
        {
          "output_type": "execute_result",
          "data": {
            "text/plain": [
              "(47126, 124)"
            ]
          },
          "metadata": {
            "tags": []
          },
          "execution_count": 23
        }
      ]
    },
    {
      "cell_type": "code",
      "metadata": {
        "id": "5FZ7D4zOwkcq"
      },
      "source": [
        "# In the next notebook(s) we will use the training data set to use Automatic Machine Learning to build AI/ML models \n",
        "# and will try to predict on the test data set and evaluate the results!"
      ],
      "execution_count": null,
      "outputs": []
    },
    {
      "cell_type": "markdown",
      "metadata": {
        "id": "kljt-OZ2xPAP"
      },
      "source": [
        "# Lending Club Data - Auto ML on H2O-3 Open Source\n",
        "\n",
        "**Lending Club** publishes loan data periodically for public use. The anonymized data has information on different loans issued, such as loan_id, loan_amount, what loan grade, credit score etc., and also a **loan_status** variable that indicates whether a loan was _Fully Paid_ or _Charged Off_ (written off because of default).\n",
        "\n",
        "This python notebook tutorial shows:\n",
        "- Kick off Automatic Machine Learning with H2O3 with the training/test prepared in the previous tutorial\n",
        "- Show Variable Importance\n",
        "- Score on test data\n",
        "- Show model performance on test data\n",
        "\n",
        "Prerequisites:\n",
        "- A H2O3 instance available running on-prem or cloud. If not, you can start a local instance\n",
        "- Get the latest h2o python library by running \"!pip install h2o\" or \"!conda install h2o\" etc.,"
      ]
    },
    {
      "cell_type": "code",
      "metadata": {
        "id": "9pm9FDmpxSJX"
      },
      "source": [
        "# Replace below with settings in your environment before you run the notebook\n",
        "\n",
        "h2o3_ip = \"127.0.0.1\"\n",
        " \n"
      ],
      "execution_count": 4,
      "outputs": []
    },
    {
      "cell_type": "markdown",
      "metadata": {
        "id": "7thvKJEjxSzP"
      },
      "source": [
        "## Create or Connect to H2O3 instance \n"
      ]
    },
    {
      "cell_type": "code",
      "metadata": {
        "colab": {
          "base_uri": "https://localhost:8080/",
          "height": 698
        },
        "id": "XPHuBifjxVZ1",
        "outputId": "cc61a8cf-a948-4ecc-b2e2-059746ab8375"
      },
      "source": [
        "!pip install h2o \n",
        "import h2o\n",
        "from h2o.automl import H2OAutoML\n",
        "\n",
        "# If you want to create and run a local instance instead, (where Jupyter kernel is running) just uncomment below:\n",
        "#h2o.init()\n",
        "# and comment the code below:\n",
        "\n",
        "h2o.init(ip=h2o3_ip,strict_version_check=True)\n",
        "\n",
        "# If things break, uninstall and install the h2o library and you set strick_version_check to True to see \n",
        "# what's going on"
      ],
      "execution_count": 5,
      "outputs": [
        {
          "output_type": "stream",
          "text": [
            "Requirement already satisfied: h2o in /usr/local/lib/python3.7/dist-packages (3.32.1.3)\n",
            "Requirement already satisfied: tabulate in /usr/local/lib/python3.7/dist-packages (from h2o) (0.8.9)\n",
            "Requirement already satisfied: requests in /usr/local/lib/python3.7/dist-packages (from h2o) (2.23.0)\n",
            "Requirement already satisfied: colorama>=0.3.8 in /usr/local/lib/python3.7/dist-packages (from h2o) (0.4.4)\n",
            "Requirement already satisfied: future in /usr/local/lib/python3.7/dist-packages (from h2o) (0.16.0)\n",
            "Requirement already satisfied: urllib3!=1.25.0,!=1.25.1,<1.26,>=1.21.1 in /usr/local/lib/python3.7/dist-packages (from requests->h2o) (1.24.3)\n",
            "Requirement already satisfied: chardet<4,>=3.0.2 in /usr/local/lib/python3.7/dist-packages (from requests->h2o) (3.0.4)\n",
            "Requirement already satisfied: certifi>=2017.4.17 in /usr/local/lib/python3.7/dist-packages (from requests->h2o) (2021.5.30)\n",
            "Requirement already satisfied: idna<3,>=2.5 in /usr/local/lib/python3.7/dist-packages (from requests->h2o) (2.10)\n",
            "Checking whether there is an H2O instance running at http://127.0.0.1:54321 ..... not found.\n",
            "Attempting to start a local H2O server...\n",
            "  Java Version: openjdk version \"11.0.11\" 2021-04-20; OpenJDK Runtime Environment (build 11.0.11+9-Ubuntu-0ubuntu2.18.04); OpenJDK 64-Bit Server VM (build 11.0.11+9-Ubuntu-0ubuntu2.18.04, mixed mode, sharing)\n",
            "  Starting server from /usr/local/lib/python3.7/dist-packages/h2o/backend/bin/h2o.jar\n",
            "  Ice root: /tmp/tmp5gha37xi\n",
            "  JVM stdout: /tmp/tmp5gha37xi/h2o_unknownUser_started_from_python.out\n",
            "  JVM stderr: /tmp/tmp5gha37xi/h2o_unknownUser_started_from_python.err\n",
            "  Server is running at http://127.0.0.1:54321\n",
            "Connecting to H2O server at http://127.0.0.1:54321 ... successful.\n"
          ],
          "name": "stdout"
        },
        {
          "output_type": "display_data",
          "data": {
            "text/html": [
              "<div style=\"overflow:auto\"><table style=\"width:50%\"><tr><td>H2O_cluster_uptime:</td>\n",
              "<td>02 secs</td></tr>\n",
              "<tr><td>H2O_cluster_timezone:</td>\n",
              "<td>Etc/UTC</td></tr>\n",
              "<tr><td>H2O_data_parsing_timezone:</td>\n",
              "<td>UTC</td></tr>\n",
              "<tr><td>H2O_cluster_version:</td>\n",
              "<td>3.32.1.3</td></tr>\n",
              "<tr><td>H2O_cluster_version_age:</td>\n",
              "<td>30 days </td></tr>\n",
              "<tr><td>H2O_cluster_name:</td>\n",
              "<td>H2O_from_python_unknownUser_tz28fp</td></tr>\n",
              "<tr><td>H2O_cluster_total_nodes:</td>\n",
              "<td>1</td></tr>\n",
              "<tr><td>H2O_cluster_free_memory:</td>\n",
              "<td>3.174 Gb</td></tr>\n",
              "<tr><td>H2O_cluster_total_cores:</td>\n",
              "<td>2</td></tr>\n",
              "<tr><td>H2O_cluster_allowed_cores:</td>\n",
              "<td>2</td></tr>\n",
              "<tr><td>H2O_cluster_status:</td>\n",
              "<td>accepting new members, healthy</td></tr>\n",
              "<tr><td>H2O_connection_url:</td>\n",
              "<td>http://127.0.0.1:54321</td></tr>\n",
              "<tr><td>H2O_connection_proxy:</td>\n",
              "<td>{\"http\": null, \"https\": null}</td></tr>\n",
              "<tr><td>H2O_internal_security:</td>\n",
              "<td>False</td></tr>\n",
              "<tr><td>H2O_API_Extensions:</td>\n",
              "<td>Amazon S3, XGBoost, Algos, AutoML, Core V3, TargetEncoder, Core V4</td></tr>\n",
              "<tr><td>Python_version:</td>\n",
              "<td>3.7.10 final</td></tr></table></div>"
            ],
            "text/plain": [
              "--------------------------  ------------------------------------------------------------------\n",
              "H2O_cluster_uptime:         02 secs\n",
              "H2O_cluster_timezone:       Etc/UTC\n",
              "H2O_data_parsing_timezone:  UTC\n",
              "H2O_cluster_version:        3.32.1.3\n",
              "H2O_cluster_version_age:    30 days\n",
              "H2O_cluster_name:           H2O_from_python_unknownUser_tz28fp\n",
              "H2O_cluster_total_nodes:    1\n",
              "H2O_cluster_free_memory:    3.174 Gb\n",
              "H2O_cluster_total_cores:    2\n",
              "H2O_cluster_allowed_cores:  2\n",
              "H2O_cluster_status:         accepting new members, healthy\n",
              "H2O_connection_url:         http://127.0.0.1:54321\n",
              "H2O_connection_proxy:       {\"http\": null, \"https\": null}\n",
              "H2O_internal_security:      False\n",
              "H2O_API_Extensions:         Amazon S3, XGBoost, Algos, AutoML, Core V3, TargetEncoder, Core V4\n",
              "Python_version:             3.7.10 final\n",
              "--------------------------  ------------------------------------------------------------------"
            ]
          },
          "metadata": {
            "tags": []
          }
        }
      ]
    },
    {
      "cell_type": "markdown",
      "metadata": {
        "id": "jMYkBbuCxbUI"
      },
      "source": [
        "### Upload the Train and Test data to H2O-3 Cluster"
      ]
    },
    {
      "cell_type": "code",
      "metadata": {
        "id": "_nFChjS8xdD-"
      },
      "source": [
        "import os\n",
        "\n",
        "# These two CSV files were created in the previous section\n",
        "\n",
        "train_path = os.getcwd()+\"/train_lc.csv.zip\"\n",
        "test_path = os.getcwd()+ \"/test_lc.csv.zip\"\n",
        "\n",
        "train = h2o.load_dataset(train_path)\n",
        "test = h2o.load_dataset(test_path)\n",
        "\n"
      ],
      "execution_count": null,
      "outputs": []
    },
    {
      "cell_type": "code",
      "metadata": {
        "id": "N222c31zxfBj"
      },
      "source": [
        "train.describe()\n"
      ],
      "execution_count": null,
      "outputs": []
    },
    {
      "cell_type": "markdown",
      "metadata": {
        "id": "Ws7nFrWoxiWI"
      },
      "source": [
        "### Run Auto ML on training data set\n"
      ]
    },
    {
      "cell_type": "code",
      "metadata": {
        "id": "ei7ZSJo1xkpE"
      },
      "source": [
        "# Identify predictors and response\n",
        "x = train.columns\n",
        "y = \"loan_status\"\n",
        "x.remove(y)\n",
        "\n",
        "\n",
        "# For binary classification, response should be a factor\n",
        "train[y] = train[y].asfactor()\n",
        "test[y] = test[y].asfactor()\n",
        "\n",
        "# Run AutoML \n",
        "aml = H2OAutoML(project_name='LC', \n",
        "                max_models=5,         # 50 base models\n",
        "                balance_classes=True,  # Doing smart Class imbalance sampling\n",
        "                max_runtime_secs=7200, # 2 hours\n",
        "                seed=1234)             # Set a seed for reproducability\n",
        "aml.train(x=x, y=y, training_frame=train)"
      ],
      "execution_count": null,
      "outputs": []
    },
    {
      "cell_type": "markdown",
      "metadata": {
        "id": "9Nl8q7Y9xm69"
      },
      "source": [
        "### Look at AutoML Leaderboard"
      ]
    },
    {
      "cell_type": "code",
      "metadata": {
        "colab": {
          "base_uri": "https://localhost:8080/",
          "height": 229
        },
        "id": "mPX3qVaAxott",
        "outputId": "d1546785-af47-43a1-eee2-63899d4a94c8"
      },
      "source": [
        "# View the AutoML Leaderboard\n",
        "lb = aml.leaderboard\n",
        "lb.head(rows=lb.nrows)  # Print all rows instead of default (10 rows)"
      ],
      "execution_count": 10,
      "outputs": [
        {
          "output_type": "display_data",
          "data": {
            "text/html": [
              "<table>\n",
              "<thead>\n",
              "<tr><th>model_id                                           </th><th style=\"text-align: right;\">     auc</th><th style=\"text-align: right;\">  logloss</th><th style=\"text-align: right;\">   aucpr</th><th style=\"text-align: right;\">  mean_per_class_error</th><th style=\"text-align: right;\">    rmse</th><th style=\"text-align: right;\">     mse</th></tr>\n",
              "</thead>\n",
              "<tbody>\n",
              "<tr><td>StackedEnsemble_BestOfFamily_AutoML_20210619_153156</td><td style=\"text-align: right;\">0.707886</td><td style=\"text-align: right;\"> 0.426223</td><td style=\"text-align: right;\">0.913134</td><td style=\"text-align: right;\">              0.495639</td><td style=\"text-align: right;\">0.365696</td><td style=\"text-align: right;\">0.133734</td></tr>\n",
              "<tr><td>XGBoost_3_AutoML_20210619_153156                   </td><td style=\"text-align: right;\">0.705041</td><td style=\"text-align: right;\"> 0.427452</td><td style=\"text-align: right;\">0.912232</td><td style=\"text-align: right;\">              0.495835</td><td style=\"text-align: right;\">0.366287</td><td style=\"text-align: right;\">0.134166</td></tr>\n",
              "<tr><td>XGBoost_3_AutoML_20210619_151900                   </td><td style=\"text-align: right;\">0.704968</td><td style=\"text-align: right;\"> 0.427484</td><td style=\"text-align: right;\">0.912226</td><td style=\"text-align: right;\">              0.495616</td><td style=\"text-align: right;\">0.366303</td><td style=\"text-align: right;\">0.134178</td></tr>\n",
              "<tr><td>GLM_1_AutoML_20210619_153156                       </td><td style=\"text-align: right;\">0.704136</td><td style=\"text-align: right;\"> 0.42802 </td><td style=\"text-align: right;\">0.911358</td><td style=\"text-align: right;\">              0.493174</td><td style=\"text-align: right;\">0.366385</td><td style=\"text-align: right;\">0.134238</td></tr>\n",
              "<tr><td>XGBoost_1_AutoML_20210619_153156                   </td><td style=\"text-align: right;\">0.688296</td><td style=\"text-align: right;\"> 0.436259</td><td style=\"text-align: right;\">0.906032</td><td style=\"text-align: right;\">              0.499124</td><td style=\"text-align: right;\">0.370229</td><td style=\"text-align: right;\">0.13707 </td></tr>\n",
              "<tr><td>XGBoost_1_AutoML_20210619_151900                   </td><td style=\"text-align: right;\">0.687911</td><td style=\"text-align: right;\"> 0.435824</td><td style=\"text-align: right;\">0.905412</td><td style=\"text-align: right;\">              0.499445</td><td style=\"text-align: right;\">0.370072</td><td style=\"text-align: right;\">0.136954</td></tr>\n",
              "<tr><td>XGBoost_2_AutoML_20210619_153156                   </td><td style=\"text-align: right;\">0.670303</td><td style=\"text-align: right;\"> 0.445361</td><td style=\"text-align: right;\">0.898407</td><td style=\"text-align: right;\">              0.499928</td><td style=\"text-align: right;\">0.37457 </td><td style=\"text-align: right;\">0.140302</td></tr>\n",
              "<tr><td>XGBoost_2_AutoML_20210619_151900                   </td><td style=\"text-align: right;\">0.669521</td><td style=\"text-align: right;\"> 0.445566</td><td style=\"text-align: right;\">0.897438</td><td style=\"text-align: right;\">              0.499905</td><td style=\"text-align: right;\">0.37462 </td><td style=\"text-align: right;\">0.14034 </td></tr>\n",
              "<tr><td>DRF_1_AutoML_20210619_153156                       </td><td style=\"text-align: right;\">0.657993</td><td style=\"text-align: right;\"> 0.670194</td><td style=\"text-align: right;\">0.888488</td><td style=\"text-align: right;\">              0.5     </td><td style=\"text-align: right;\">0.383728</td><td style=\"text-align: right;\">0.147247</td></tr>\n",
              "</tbody>\n",
              "</table>"
            ]
          },
          "metadata": {
            "tags": []
          }
        },
        {
          "output_type": "execute_result",
          "data": {
            "text/plain": [
              ""
            ]
          },
          "metadata": {
            "tags": []
          },
          "execution_count": 10
        }
      ]
    },
    {
      "cell_type": "markdown",
      "metadata": {
        "id": "ba6GOzPYxw9u"
      },
      "source": [
        "### What's the composition of the StackedEnsemble Leader model ?"
      ]
    },
    {
      "cell_type": "code",
      "metadata": {
        "id": "f3heA4crxz2-"
      },
      "source": [
        "import warnings\n",
        "warnings.filterwarnings(\"ignore\")\n",
        "%matplotlib inline\n",
        "metalearner = h2o.get_model(aml.leader.metalearner()['name'])\n",
        "metalearner.std_coef_plot()"
      ],
      "execution_count": null,
      "outputs": []
    },
    {
      "cell_type": "markdown",
      "metadata": {
        "id": "ztsW76Lmx3ae"
      },
      "source": [
        ">  You can see above H2O ML ran XGBoost, GLM, XRT, GBM, Deep Learning, DRF etc., did hyperparameter search and then\n",
        "\n",
        ">  combined the top N best algorithms to create a final stack ensemble"
      ]
    },
    {
      "cell_type": "markdown",
      "metadata": {
        "id": "QuRuMdEmyAR3"
      },
      "source": [
        "### Important Features and Attributes of the top GLM Model on the AutoML leaderboard\n",
        "#### What's different about a  Loan getting \"Fully Paid\" or \"Charged Off\" ?"
      ]
    },
    {
      "cell_type": "code",
      "metadata": {
        "id": "NtGh69YnyCXu"
      },
      "source": [
        "# Get the GLM leader from above for looking at feature importance\n",
        "df = lb.as_data_frame()\n",
        "for m in df['model_id'].tolist():\n",
        "    if (m.find(\"GLM\") != -1):\n",
        "        glm_leader_model = m\n",
        "        break\n",
        "        \n",
        "h2o.get_model(glm_leader_model).std_coef_plot(num_of_features=20)"
      ],
      "execution_count": null,
      "outputs": []
    },
    {
      "cell_type": "markdown",
      "metadata": {
        "id": "zRfAWAEOyE-_"
      },
      "source": [
        "### Insights ...\n",
        "The standardized Coef. Magnitudes of the GLM model in the leaderboard gives us a sense of what's different about a Loan Getting Paid in Full vs Loan getting Charged Off/Defaulted. The features/attributes in blue are the positive reasons (Length of the bar is the order of importance) why the Loan is getting Paid in Full vs the one in the Orange which can be attributed to Loan defaulting. In summary:\n",
        "\n",
        "##### 7 Factors why Loan might getting Fully Paid - in the order of importance (Looking only at the Blue bars):\n",
        "\n",
        "1. **term.36_months** - If the Loan term is shorter, like 3 years\n",
        "2. **grade.A** - If the Loan Grade is \"A\"\n",
        "3. **total_bc_limit** - If the total bank card credit Limit is high\n",
        "4. **mo_sub_old_rev_tl_op** - If a lot of months since most recent revolving account opened\n",
        "5. **home_ownership.MORTGAGE** - Whether a Home Mortgage Account was opened earlier by customer\n",
        "6. **total_il_high_credit_limit** - Total installment high credit/credit limit (Kind of %payments to total credit limit)\n",
        "7. **earliest_cr_line** - When the first credit line was opened\n",
        "\n",
        "\n",
        "##### 7 Factors why Loan might be Charged Off - in the order of importance (Looking only at the Orange bars):\n",
        "1. **int_rate** - If Interest Rate is high\n",
        "2. **term.60_months** - If the Loan term is longer, like 5 years\n",
        "3. **emp_title.<EMP_TITLE>** - \n",
        "4. **acc_open_past_24_mnts** - Correlated to the # of accounts opened in past 24 months\n",
        "5. **dti** - Debt to Income ratio is high\n",
        "6. **issue_d** - month/year which a loan was issued\n",
        "7. **home_ownership.RENT** - Whether a customer was renting an apartment."
      ]
    },
    {
      "cell_type": "markdown",
      "metadata": {
        "id": "iyxOcT_tyHql"
      },
      "source": [
        "### Variable Importance Insights from each model in the AutoML Leaderboard\n",
        "\n",
        "Note that each algorithm in the leaderboard is somewhat showing the same variables as the Top N important ones. That's telling us each algorithm generalizes to the same factors more or less !"
      ]
    },
    {
      "cell_type": "code",
      "metadata": {
        "id": "pEQRgjXJyKRa"
      },
      "source": [
        "# Let's do variable importance for each one of the models in the LeaderBoard\n",
        "# We can't do this for a StackedEnsemble, so will skip it\n",
        "\n",
        "df = lb.as_data_frame()\n",
        "for m in df['model_id'].tolist():\n",
        "    if (m.find(\"StackedEnsemble\") == -1):\n",
        "        h2o.get_model(m).varimp_plot()\n",
        " "
      ],
      "execution_count": null,
      "outputs": []
    },
    {
      "cell_type": "markdown",
      "metadata": {
        "id": "LaWJlfdTyNi2"
      },
      "source": [
        "### Lets predict on the Test Data Set - using the AutoML leader "
      ]
    },
    {
      "cell_type": "code",
      "metadata": {
        "colab": {
          "base_uri": "https://localhost:8080/"
        },
        "id": "HDjqWM0LyPZr",
        "outputId": "382cd45c-ba3c-4de3-99d4-1a4d230c61b2"
      },
      "source": [
        "test_pc = aml.predict(test)"
      ],
      "execution_count": 14,
      "outputs": [
        {
          "output_type": "stream",
          "text": [
            "stackedensemble prediction progress: |████████████████████████████████████| 100%\n"
          ],
          "name": "stdout"
        }
      ]
    },
    {
      "cell_type": "code",
      "metadata": {
        "colab": {
          "base_uri": "https://localhost:8080/",
          "height": 250
        },
        "id": "24N44K_HyRUd",
        "outputId": "d99bc1dc-ee2b-45db-94b1-8fbe04d43498"
      },
      "source": [
        "# These scores were predicted by the stacked ensemble leader ...\n",
        "test_pc"
      ],
      "execution_count": 15,
      "outputs": [
        {
          "output_type": "display_data",
          "data": {
            "text/html": [
              "<table>\n",
              "<thead>\n",
              "<tr><th>predict   </th><th style=\"text-align: right;\">  Charged Off</th><th style=\"text-align: right;\">  Fully Paid</th></tr>\n",
              "</thead>\n",
              "<tbody>\n",
              "<tr><td>Fully Paid</td><td style=\"text-align: right;\">    0.106697 </td><td style=\"text-align: right;\">    0.893303</td></tr>\n",
              "<tr><td>Fully Paid</td><td style=\"text-align: right;\">    0.0880756</td><td style=\"text-align: right;\">    0.911924</td></tr>\n",
              "<tr><td>Fully Paid</td><td style=\"text-align: right;\">    0.136152 </td><td style=\"text-align: right;\">    0.863848</td></tr>\n",
              "<tr><td>Fully Paid</td><td style=\"text-align: right;\">    0.181023 </td><td style=\"text-align: right;\">    0.818977</td></tr>\n",
              "<tr><td>Fully Paid</td><td style=\"text-align: right;\">    0.170059 </td><td style=\"text-align: right;\">    0.829941</td></tr>\n",
              "<tr><td>Fully Paid</td><td style=\"text-align: right;\">    0.103988 </td><td style=\"text-align: right;\">    0.896012</td></tr>\n",
              "<tr><td>Fully Paid</td><td style=\"text-align: right;\">    0.0646339</td><td style=\"text-align: right;\">    0.935366</td></tr>\n",
              "<tr><td>Fully Paid</td><td style=\"text-align: right;\">    0.0848739</td><td style=\"text-align: right;\">    0.915126</td></tr>\n",
              "<tr><td>Fully Paid</td><td style=\"text-align: right;\">    0.18764  </td><td style=\"text-align: right;\">    0.81236 </td></tr>\n",
              "<tr><td>Fully Paid</td><td style=\"text-align: right;\">    0.110748 </td><td style=\"text-align: right;\">    0.889252</td></tr>\n",
              "</tbody>\n",
              "</table>"
            ]
          },
          "metadata": {
            "tags": []
          }
        },
        {
          "output_type": "execute_result",
          "data": {
            "text/plain": [
              ""
            ]
          },
          "metadata": {
            "tags": []
          },
          "execution_count": 15
        }
      ]
    },
    {
      "cell_type": "markdown",
      "metadata": {
        "id": "ZvjvsTkeybpn"
      },
      "source": [
        "\n",
        "\n",
        "```\n",
        "# This is formatted as code\n",
        "```\n",
        "\n",
        "### AutoML Leader - Model Performance on the Test Data Set"
      ]
    },
    {
      "cell_type": "code",
      "metadata": {
        "id": "WMbkrfp-yeKw"
      },
      "source": [
        "aml.leader.model_performance(test_data=test,xval=False)"
      ],
      "execution_count": null,
      "outputs": []
    },
    {
      "cell_type": "markdown",
      "metadata": {
        "id": "Jm9Uyuw7yiu1"
      },
      "source": [
        "### Summary of Results\n",
        "The AUC on the test set was ~ 0.73, which is slightly better than the train AUC. \n",
        "\n",
        "The data was a snapshot on time where loans where running (some early stage and some late) and not necessarily \"cohorts\". In the data preparation phase, we also dropped lot of columns that was giving away the outcome. The models built are still very useful to understand the drivers behind the outcome. How to improve the accuracy ? See Next Steps.\n",
        "\n",
        "### Next Steps\n",
        "H2O3 AutoML can help you build models really quickly and understand the variable importances with very little effort. Recall, we didn't do any feature engineering (like one-hot-encoding etc.,) to the input data! In the next blog posts, we will explore how to do the following, in addition to Automatic Machine Learning:\n",
        "- Automatic Feature Engineering\n",
        "- Machine Learning Interpretability etc.,\n",
        "\n",
        "with H2O's commercial product Driverless AI ...\n"
      ]
    },
    {
      "cell_type": "code",
      "metadata": {
        "id": "HHeT1iXVyhNk"
      },
      "source": [
        ""
      ],
      "execution_count": null,
      "outputs": []
    }
  ]
}