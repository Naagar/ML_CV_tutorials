{
  "nbformat": 4,
  "nbformat_minor": 0,
  "metadata": {
    "kernelspec": {
      "display_name": "Python 3",
      "language": "python",
      "name": "python3"
    },
    "language_info": {
      "codemirror_mode": {
        "name": "ipython",
        "version": 3
      },
      "file_extension": ".py",
      "mimetype": "text/x-python",
      "name": "python",
      "nbconvert_exporter": "python",
      "pygments_lexer": "ipython3",
      "version": "3.6.3"
    },
    "nbTranslate": {
      "displayLangs": [
        "*"
      ],
      "hotkey": "alt-t",
      "langInMainMenu": true,
      "sourceLang": "en",
      "targetLang": "fr",
      "useGoogleTranslate": true
    },
    "colab": {
      "name": "Word2vec_starter.ipynb",
      "provenance": [],
      "collapsed_sections": []
    }
  },
  "cells": [
    {
      "cell_type": "markdown",
      "metadata": {
        "id": "Op0ecsJvVjlQ"
      },
      "source": [
        "The objective of this experiment is to understand word2vec."
      ]
    },
    {
      "cell_type": "markdown",
      "metadata": {
        "id": "q2sI1Y6kVjlR"
      },
      "source": [
        "In this experiment we will use **Mahabharata** as our text corpus"
      ]
    },
    {
      "cell_type": "markdown",
      "metadata": {
        "id": "ZtolTYDtVjlS"
      },
      "source": [
        "##### Importing the required packages"
      ]
    },
    {
      "cell_type": "code",
      "metadata": {
        "ExecuteTime": {
          "end_time": "2018-06-30T05:36:58.471881Z",
          "start_time": "2018-06-30T05:36:58.465484Z"
        },
        "id": "MeHMgdVVVjlT"
      },
      "source": [
        "import gensim\n",
        "# Operating System\n",
        "import os\n",
        "# Regular Expression\n",
        "import re\n",
        "# nltk packages\n",
        "from nltk.tokenize import sent_tokenize, word_tokenize\n",
        "from nltk.stem.porter import *\n",
        "from nltk.stem.snowball import SnowballStemmer\n",
        "# Basic Packages\n",
        "import pandas as pd\n",
        "import numpy as np\n",
        "from matplotlib import pyplot as plt\n",
        "# PCA Package\n",
        "from sklearn.decomposition import PCA"
      ],
      "execution_count": 1,
      "outputs": []
    },
    {
      "cell_type": "markdown",
      "metadata": {
        "id": "ux4IHEsKVjlW"
      },
      "source": [
        "Snowball is a small string processing language designed for creating stemming algorithms for use in Information Retrieval. "
      ]
    },
    {
      "cell_type": "markdown",
      "metadata": {
        "id": "eStdDDQaVjlW"
      },
      "source": [
        "##### Creating a new instance of a language specific subclass."
      ]
    },
    {
      "cell_type": "code",
      "metadata": {
        "ExecuteTime": {
          "end_time": "2018-06-30T05:37:28.281061Z",
          "start_time": "2018-06-30T05:37:28.276619Z"
        },
        "id": "I2x7x6N8VjlX"
      },
      "source": [
        "stemmer = SnowballStemmer(\"english\")"
      ],
      "execution_count": 2,
      "outputs": []
    },
    {
      "cell_type": "markdown",
      "metadata": {
        "id": "LUUNFlp1VjlY"
      },
      "source": [
        "##### In below cell we are trying to pre-process the text data and not stemming \n",
        "\n",
        "*   List item\n",
        "\n",
        "*   List item\n",
        "*   List item\n",
        "\n",
        "\n",
        "*   List item\n",
        "\n",
        "the stop words"
      ]
    },
    {
      "cell_type": "code",
      "metadata": {
        "ExecuteTime": {
          "end_time": "2018-06-30T05:41:28.851477Z",
          "start_time": "2018-06-30T05:41:28.842085Z"
        },
        "id": "aUw4YE6cVjlZ"
      },
      "source": [
        "stopWords = pd.read_csv(r'/content/sample_data/stopwords.txt').values\n",
        "class MySentences(object):\n",
        "    def __init__(self, fnamelist):\n",
        "        self.fnamelist = fnamelist\n",
        "        # Creating a set of vocabulary\n",
        "        self.vocabulary = set([])\n",
        "\n",
        "    def __iter__(self):\n",
        "        for fname in self.fnamelist:\n",
        "            for line in open(fname, encoding='latin1'):\n",
        "                # Find all the words that has letters from 2 - 15. If the words are longer than that ignore.\n",
        "                words = re.findall(r'(\\b[A-Za-z][a-z]{2,15}\\b)', line)\n",
        "                # Stemming a word.\n",
        "                words = [ stemmer.stem(word.lower()) for word in words if not word.lower() in stopWords]\n",
        "                for word in words:\n",
        "                    self.vocabulary.add(word)\n",
        "                yield words"
      ],
      "execution_count": 8,
      "outputs": []
    },
    {
      "cell_type": "markdown",
      "metadata": {
        "id": "NG2jG7itVjlb"
      },
      "source": [
        "##### In below cell we will read the data using an iterator in the class MySentences(). \n",
        "\n",
        "Gensim model: https://radimrehurek.com/gensim/models/word2vec.html"
      ]
    },
    {
      "cell_type": "code",
      "metadata": {
        "ExecuteTime": {
          "end_time": "2018-06-30T05:43:17.493895Z",
          "start_time": "2018-06-30T05:43:17.464137Z"
        },
        "id": "507Pc7_UVjlc"
      },
      "source": [
        "sentences = MySentences(['/content/sample_data/MB.txt']) # a memory-friendly iterator\n",
        "model = gensim.models.Word2Vec(sentences, min_count=100)\n",
        "# model_load = gensim.models.Word2Vec.load('MB2Vec.bin')"
      ],
      "execution_count": 10,
      "outputs": []
    },
    {
      "cell_type": "code",
      "metadata": {
        "id": "CFGPCACsYnlf"
      },
      "source": [
        "model_load = model"
      ],
      "execution_count": 11,
      "outputs": []
    },
    {
      "cell_type": "markdown",
      "metadata": {
        "id": "ez1FTOIbVjld"
      },
      "source": [
        "##### Lets see the most similar words related to different characters"
      ]
    },
    {
      "cell_type": "code",
      "metadata": {
        "ExecuteTime": {
          "end_time": "2018-06-30T05:45:06.801555Z",
          "start_time": "2018-06-30T05:45:06.792788Z"
        },
        "colab": {
          "base_uri": "https://localhost:8080/"
        },
        "id": "kNU3T0IpVjle",
        "outputId": "14654ca2-b3a0-4163-a958-5ecd189bd878"
      },
      "source": [
        "model_load.wv.most_similar('krishna')[:3]"
      ],
      "execution_count": 12,
      "outputs": [
        {
          "output_type": "execute_result",
          "data": {
            "text/plain": [
              "[('kesava', 0.8543685674667358),\n",
              " ('vasudeva', 0.8145432472229004),\n",
              " ('govinda', 0.7846795320510864)]"
            ]
          },
          "metadata": {
            "tags": []
          },
          "execution_count": 12
        }
      ]
    },
    {
      "cell_type": "code",
      "metadata": {
        "ExecuteTime": {
          "end_time": "2018-06-30T05:47:34.528017Z",
          "start_time": "2018-06-30T05:47:34.520211Z"
        },
        "colab": {
          "base_uri": "https://localhost:8080/"
        },
        "id": "X3lgOT6eVjle",
        "outputId": "fe443603-f0dd-4691-fabf-f1d66307ef0b"
      },
      "source": [
        "model_load.wv.most_similar('arjuna')[:3]"
      ],
      "execution_count": 13,
      "outputs": [
        {
          "output_type": "execute_result",
          "data": {
            "text/plain": [
              "[('partha', 0.8979674577713013),\n",
              " ('dhananjaya', 0.8264049887657166),\n",
              " ('kama', 0.8095197677612305)]"
            ]
          },
          "metadata": {
            "tags": []
          },
          "execution_count": 13
        }
      ]
    },
    {
      "cell_type": "code",
      "metadata": {
        "ExecuteTime": {
          "end_time": "2018-06-30T05:51:23.251064Z",
          "start_time": "2018-06-30T05:51:23.235495Z"
        },
        "colab": {
          "base_uri": "https://localhost:8080/"
        },
        "id": "3pqXdV8CVjlf",
        "outputId": "4a3488f4-fc00-4055-affa-5d9cb6d545e0"
      },
      "source": [
        "model_load.wv.most_similar('virata')[:3]"
      ],
      "execution_count": 14,
      "outputs": [
        {
          "output_type": "execute_result",
          "data": {
            "text/plain": [
              "[('drupada', 0.872225284576416),\n",
              " ('chedi', 0.8389759063720703),\n",
              " ('kasi', 0.8292455673217773)]"
            ]
          },
          "metadata": {
            "tags": []
          },
          "execution_count": 14
        }
      ]
    },
    {
      "cell_type": "markdown",
      "metadata": {
        "id": "ROdnHzltVjlf"
      },
      "source": [
        "##### We will save the trained vectors ."
      ]
    },
    {
      "cell_type": "code",
      "metadata": {
        "ExecuteTime": {
          "end_time": "2018-06-30T04:39:46.897701Z",
          "start_time": "2018-06-30T04:39:46.892679Z"
        },
        "id": "KUhEueNGVjlg"
      },
      "source": [
        "model = model.save(\"MB2Vec_cbow.bin\")"
      ],
      "execution_count": 15,
      "outputs": []
    },
    {
      "cell_type": "markdown",
      "metadata": {
        "id": "I3glFGOwVjlh"
      },
      "source": [
        "##### Iterating through the vocabulary and constructing the word and vector list"
      ]
    },
    {
      "cell_type": "code",
      "metadata": {
        "ExecuteTime": {
          "end_time": "2018-06-30T05:52:10.387941Z",
          "start_time": "2018-06-30T05:52:09.839935Z"
        },
        "scrolled": true,
        "id": "X4jhp_bPVjlh"
      },
      "source": [
        "words_list = np.array([])\n",
        "vector_list = np.array([])\n",
        "for i in model_load.wv.vocab:\n",
        "    # print(i)\n",
        "    try :\n",
        "        words_list = np.append(words_list, i)\n",
        "        vector_list = np.append(vector_list, model_load.wv[i])\n",
        "    except :\n",
        "        pass\n",
        "vector_list = vector_list.reshape(len(model_load.wv.vocab), -1)"
      ],
      "execution_count": 16,
      "outputs": []
    },
    {
      "cell_type": "code",
      "metadata": {
        "colab": {
          "base_uri": "https://localhost:8080/"
        },
        "id": "RazByvqL_1Ck",
        "outputId": "f0d45a66-8621-4c94-ab24-99a4d14db446"
      },
      "source": [
        "model_load"
      ],
      "execution_count": 17,
      "outputs": [
        {
          "output_type": "execute_result",
          "data": {
            "text/plain": [
              "<gensim.models.word2vec.Word2Vec at 0x7f8abde4b310>"
            ]
          },
          "metadata": {
            "tags": []
          },
          "execution_count": 17
        }
      ]
    },
    {
      "cell_type": "code",
      "metadata": {
        "ExecuteTime": {
          "end_time": "2018-06-30T05:52:10.656217Z",
          "start_time": "2018-06-30T05:52:10.644233Z"
        },
        "id": "oq8tQUEOVjlj",
        "colab": {
          "base_uri": "https://localhost:8080/"
        },
        "outputId": "26dbccdd-4bee-4217-ced9-065b5a65e0e7"
      },
      "source": [
        "vector_list"
      ],
      "execution_count": 18,
      "outputs": [
        {
          "output_type": "execute_result",
          "data": {
            "text/plain": [
              "array([[ 0.24397752,  1.44978917,  0.25775975, ..., -0.7156359 ,\n",
              "        -0.54473507, -0.26401079],\n",
              "       [-0.22691029,  1.08452082, -0.48434371, ..., -0.1385314 ,\n",
              "         0.49288729,  0.25618011],\n",
              "       [ 0.19703586,  1.75663221,  0.10258948, ..., -0.57738131,\n",
              "        -0.33063829, -0.5389874 ],\n",
              "       ...,\n",
              "       [ 0.10179108, -0.54114199,  0.00523737, ...,  0.07535721,\n",
              "        -0.37491289,  0.10212232],\n",
              "       [ 0.56074184, -0.71436507,  0.31360039, ...,  0.04637676,\n",
              "        -0.42078859, -0.14803347],\n",
              "       [-0.05416181,  0.12971555,  0.2168202 , ...,  0.00669603,\n",
              "        -0.20669788,  0.34628016]])"
            ]
          },
          "metadata": {
            "tags": []
          },
          "execution_count": 18
        }
      ]
    },
    {
      "cell_type": "markdown",
      "metadata": {
        "id": "oFK6dlynVjlk"
      },
      "source": [
        "##### Applying PCA on the vector_list to reduce the dimensions"
      ]
    },
    {
      "cell_type": "code",
      "metadata": {
        "ExecuteTime": {
          "end_time": "2018-06-30T05:54:45.892434Z",
          "start_time": "2018-06-30T05:54:45.872925Z"
        },
        "id": "_vQNJnePVjlk"
      },
      "source": [
        "pca = PCA(n_components=2)\n",
        "pca.fit(vector_list)\n",
        "compressed_list =pca.transform(vector_list)"
      ],
      "execution_count": 19,
      "outputs": []
    },
    {
      "cell_type": "markdown",
      "metadata": {
        "id": "M2Ap1190Vjll"
      },
      "source": [
        "##### Checking the shape of the vector_list"
      ]
    },
    {
      "cell_type": "code",
      "metadata": {
        "ExecuteTime": {
          "end_time": "2018-06-30T05:55:00.159024Z",
          "start_time": "2018-06-30T05:55:00.153531Z"
        },
        "id": "lHiJ_7v7Vjlm",
        "colab": {
          "base_uri": "https://localhost:8080/"
        },
        "outputId": "5ce644fc-d367-43c5-8641-6d6bb1e2c1d3"
      },
      "source": [
        "vector_list.shape"
      ],
      "execution_count": 20,
      "outputs": [
        {
          "output_type": "execute_result",
          "data": {
            "text/plain": [
              "(1701, 100)"
            ]
          },
          "metadata": {
            "tags": []
          },
          "execution_count": 20
        }
      ]
    },
    {
      "cell_type": "markdown",
      "metadata": {
        "id": "5bzUzscYVjlm"
      },
      "source": [
        "##### Checking the shape of the compressed_list after applying PCA"
      ]
    },
    {
      "cell_type": "code",
      "metadata": {
        "ExecuteTime": {
          "end_time": "2018-06-30T05:55:01.105289Z",
          "start_time": "2018-06-30T05:55:01.095715Z"
        },
        "id": "9NwX_6EPVjln",
        "colab": {
          "base_uri": "https://localhost:8080/"
        },
        "outputId": "d1bbce8b-3828-43ed-bcdc-c6e5ffb307c7"
      },
      "source": [
        "compressed_list.shape"
      ],
      "execution_count": 21,
      "outputs": [
        {
          "output_type": "execute_result",
          "data": {
            "text/plain": [
              "(1701, 2)"
            ]
          },
          "metadata": {
            "tags": []
          },
          "execution_count": 21
        }
      ]
    },
    {
      "cell_type": "markdown",
      "metadata": {
        "id": "vJnikQUJVjln"
      },
      "source": [
        "##### Let us find the location of some characters in word_list to get the locations"
      ]
    },
    {
      "cell_type": "code",
      "metadata": {
        "ExecuteTime": {
          "end_time": "2018-06-30T05:55:06.080485Z",
          "start_time": "2018-06-30T05:55:06.070111Z"
        },
        "id": "LZ1hcGgHVjln",
        "colab": {
          "base_uri": "https://localhost:8080/"
        },
        "outputId": "6abc9007-c145-44a8-f206-37b5cc62f837"
      },
      "source": [
        "# characters = ['dussasana','sakuni','duryodhana','bhishma', 'krishna','madri','pandu', 'kunti', 'karna', 'bhima', 'arjuna', 'nakula', 'sahadeva', 'draupadi']\n",
        "characters = ['dussasana','sakuni','duryodhana','bhishma','krishna','madri','pandu', 'kunti', 'bhima', 'arjuna', 'nakula', 'sahadeva', 'draupadi']\n",
        "locs = [np.where(words_list == x)[0][0] for x in characters]\n",
        "print(locs)"
      ],
      "execution_count": 22,
      "outputs": [
        {
          "output_type": "stream",
          "text": [
            "[1627, 1626, 1522, 19, 1245, 1500, 1232, 245, 1572, 1381, 1646, 1531, 1603]\n"
          ],
          "name": "stdout"
        }
      ]
    },
    {
      "cell_type": "code",
      "metadata": {
        "colab": {
          "base_uri": "https://localhost:8080/"
        },
        "id": "yKlE3ezeAcIB",
        "outputId": "004631e9-7a3a-4cfa-9850-1c61a2fd9ded"
      },
      "source": [
        "words_list"
      ],
      "execution_count": 23,
      "outputs": [
        {
          "output_type": "execute_result",
          "data": {
            "text/plain": [
              "array(['translat', 'origin', 'text', ..., 'dhartarashtra', 'horsemen',\n",
              "       'carnag'], dtype='<U32')"
            ]
          },
          "metadata": {
            "tags": []
          },
          "execution_count": 23
        }
      ]
    },
    {
      "cell_type": "markdown",
      "metadata": {
        "id": "Rt-kysGWVjlo"
      },
      "source": [
        "##### Let us Plot the data"
      ]
    },
    {
      "cell_type": "code",
      "metadata": {
        "ExecuteTime": {
          "end_time": "2018-06-30T05:55:10.380328Z",
          "start_time": "2018-06-30T05:55:10.121894Z"
        },
        "id": "14vY6e2PVjlo",
        "colab": {
          "base_uri": "https://localhost:8080/",
          "height": 320
        },
        "outputId": "13f9f116-83e9-4c53-a0fa-ebcebcb660c6"
      },
      "source": [
        "fig = plt.figure(figsize=(5,5))\n",
        "ax = fig.add_subplot(111)\n",
        "for character, pos in zip(characters, locs):\n",
        "    m = model_load.wv.get_vector(character)\n",
        "    value = pca.transform([m])[0]\n",
        "    ax.plot(value[0], value[1], \"gx\")\n",
        "    ax.annotate(words_list[pos], xy=value, xytext=value)\n",
        "plt.show()\n",
        "fig.savefig('word2vec.png')"
      ],
      "execution_count": 24,
      "outputs": [
        {
          "output_type": "display_data",
          "data": {
            "image/png": "[encoded data removed]",
            "text/plain": [
              "<Figure size 360x360 with 1 Axes>"
            ]
          },
          "metadata": {
            "tags": [],
            "needs_background": "light"
          }
        }
      ]
    },
    {
      "cell_type": "markdown",
      "metadata": {
        "id": "0JIeKOVnyeT7"
      },
      "source": [
        "###### Characters are grouped together based on word2vec learnt by the model."
      ]
    },
    {
      "cell_type": "markdown",
      "metadata": {
        "id": "qlUVTZNqVjlp"
      },
      "source": [
        "##### We will see the most similar characters related to characters list as shown below.\n",
        "\n",
        "##### characters = ['dussasana','sakuni','duryodhana','bhishma', 'krishna','madri','pandu', 'kunti', 'karna', 'bhima', 'arjuna', 'nakula', 'sahadeva', 'draupadi']"
      ]
    },
    {
      "cell_type": "code",
      "metadata": {
        "ExecuteTime": {
          "end_time": "2018-06-30T04:40:01.705867Z",
          "start_time": "2018-06-30T04:40:01.682697Z"
        },
        "id": "fg1OsiEvVjlq",
        "colab": {
          "base_uri": "https://localhost:8080/"
        },
        "outputId": "d5a25681-f41d-4d6c-9b91-863bf228013b"
      },
      "source": [
        "# Persons closer to the characters of our choice based on the word2vec model\n",
        "for character in characters:\n",
        "    near = model_load.wv.most_similar(character)[:5]\n",
        "    nearNames = [x[0] for x in near]\n",
        "    print(character, ':'.join(nearNames), sep=\"\\t\")"
      ],
      "execution_count": 25,
      "outputs": [
        {
          "output_type": "stream",
          "text": [
            "dussasana\tsakuni:duhsasana:vikarna:chitrasena:somadatta\n",
            "sakuni\tdussasana:duhsasana:vikarna:suvala:valhika\n",
            "duryodhana\tdussasana:suyodhana:sakuni:jayadratha:dhritarashtra\n",
            "bhishma\tsalya:sanjaya:vaisampayana:savyasachin:kama\n",
            "krishna\tkesava:vasudeva:govinda:madhava:vibhatsu\n",
            "madri\tsomadatta:prishata:subhadra:suvala:valiant\n",
            "pandu\tpritha:kunti:radha:suta:subhadra\n",
            "kunti\tpritha:radha:pandu:suta:subhadra\n",
            "bhima\tbhimasena:vrikodara:abhimanyu:satyaki:dhananjaya\n",
            "arjuna\tpartha:dhananjaya:kama:vibhatsu:vrikodara\n",
            "nakula\tsahadeva:vikarna:aswatthaman:duhsasana:chitrasena\n",
            "sahadeva\tnakula:satyaki:vikarna:duhsasana:dhrishtadyumna\n",
            "draupadi\tdrupada:madri:dussasana:suvala:sakuni\n"
          ],
          "name": "stdout"
        }
      ]
    },
    {
      "cell_type": "code",
      "metadata": {
        "id": "w_WXGBgVVjlq"
      },
      "source": [
        "#TASK Modify the gensim word2vec model to train skip gram model."
      ],
      "execution_count": 26,
      "outputs": []
    },
    {
      "cell_type": "code",
      "metadata": {
        "id": "gJK01fLVAJER"
      },
      "source": [
        "model_sg = gensim.models.Word2Vec(sentences, min_count=100,sg=1)"
      ],
      "execution_count": 27,
      "outputs": []
    },
    {
      "cell_type": "code",
      "metadata": {
        "id": "082Vykc0C5kU"
      },
      "source": [
        "model_sg.save('MB2Vec_SG.bin')"
      ],
      "execution_count": 28,
      "outputs": []
    },
    {
      "cell_type": "code",
      "metadata": {
        "colab": {
          "base_uri": "https://localhost:8080/"
        },
        "id": "EX5XSE0yDWcm",
        "outputId": "110d9285-3731-43c8-ee93-bb7ef4864b65"
      },
      "source": [
        "model_sg.wv.most_similar('krishna')[:3]"
      ],
      "execution_count": 29,
      "outputs": [
        {
          "output_type": "execute_result",
          "data": {
            "text/plain": [
              "[('kesava', 0.7777543067932129),\n",
              " ('vasudeva', 0.7349647283554077),\n",
              " ('govinda', 0.7264777421951294)]"
            ]
          },
          "metadata": {
            "tags": []
          },
          "execution_count": 29
        }
      ]
    },
    {
      "cell_type": "code",
      "metadata": {
        "colab": {
          "base_uri": "https://localhost:8080/"
        },
        "id": "BdjpYlUfE8T4",
        "outputId": "22bc02aa-6ed8-411c-8cdd-50d107010ea8"
      },
      "source": [
        "model_sg.wv.most_similar('arjuna')[:3]"
      ],
      "execution_count": 30,
      "outputs": [
        {
          "output_type": "execute_result",
          "data": {
            "text/plain": [
              "[('partha', 0.7743347883224487),\n",
              " ('phalguna', 0.7468970417976379),\n",
              " ('janardana', 0.7406601905822754)]"
            ]
          },
          "metadata": {
            "tags": []
          },
          "execution_count": 30
        }
      ]
    },
    {
      "cell_type": "code",
      "metadata": {
        "colab": {
          "base_uri": "https://localhost:8080/"
        },
        "id": "VXScHPjMFAgH",
        "outputId": "f5750cb4-c061-404c-b7fd-1c8cbdbb870d"
      },
      "source": [
        "model_sg.wv.most_similar('virata')[:3]"
      ],
      "execution_count": 31,
      "outputs": [
        {
          "output_type": "execute_result",
          "data": {
            "text/plain": [
              "[('drupada', 0.8753161430358887),\n",
              " ('kasi', 0.8065705299377441),\n",
              " ('magadha', 0.7997111082077026)]"
            ]
          },
          "metadata": {
            "tags": []
          },
          "execution_count": 31
        }
      ]
    },
    {
      "cell_type": "code",
      "metadata": {
        "id": "KSEKlAfCFD7I"
      },
      "source": [
        "words_list = np.array([])\n",
        "vector_list = np.array([])\n",
        "for i in model_sg.wv.vocab:\n",
        "    # print(i)\n",
        "    try :\n",
        "        words_list = np.append(words_list, i)\n",
        "        vector_list = np.append(vector_list, model_sg.wv[i])\n",
        "    except :\n",
        "        pass\n",
        "vector_list = vector_list.reshape(len(model_sg.wv.vocab), -1)"
      ],
      "execution_count": 32,
      "outputs": []
    },
    {
      "cell_type": "code",
      "metadata": {
        "colab": {
          "base_uri": "https://localhost:8080/"
        },
        "id": "lsk9rQYUFUo_",
        "outputId": "5b872ef1-31b1-4008-c485-257dab5dece8"
      },
      "source": [
        "vector_list"
      ],
      "execution_count": 33,
      "outputs": [
        {
          "output_type": "execute_result",
          "data": {
            "text/plain": [
              "array([[ 0.14366461,  0.59927624,  0.23938744, ..., -0.33505073,\n",
              "        -0.37230885, -0.33318937],\n",
              "       [ 0.00476464,  0.80147493, -0.09694942, ..., -0.07652889,\n",
              "         0.33686984,  0.25590381],\n",
              "       [ 0.09492081,  0.84931254,  0.40883961, ..., -0.19575162,\n",
              "        -0.35612169, -0.38410014],\n",
              "       ...,\n",
              "       [-0.10396479, -0.03932578, -0.09107188, ...,  0.05703537,\n",
              "        -0.25653532,  0.06830938],\n",
              "       [ 0.40246108, -0.32947695,  0.16629687, ...,  0.18469097,\n",
              "        -0.35831216,  0.07118917],\n",
              "       [-0.02156432,  0.35138363,  0.0264676 , ..., -0.01727219,\n",
              "        -0.11807235,  0.32021958]])"
            ]
          },
          "metadata": {
            "tags": []
          },
          "execution_count": 33
        }
      ]
    },
    {
      "cell_type": "code",
      "metadata": {
        "colab": {
          "base_uri": "https://localhost:8080/"
        },
        "id": "LTKL_sFJFYNn",
        "outputId": "d4b8da1f-0100-4da1-d37d-e781397b33de"
      },
      "source": [
        "vector_list.shape"
      ],
      "execution_count": 34,
      "outputs": [
        {
          "output_type": "execute_result",
          "data": {
            "text/plain": [
              "(1701, 100)"
            ]
          },
          "metadata": {
            "tags": []
          },
          "execution_count": 34
        }
      ]
    },
    {
      "cell_type": "code",
      "metadata": {
        "id": "sbmqaDHvFiiw"
      },
      "source": [
        "pca = PCA(n_components=2)\n",
        "pca.fit(vector_list)\n",
        "compressed_list =pca.transform(vector_list)"
      ],
      "execution_count": 35,
      "outputs": []
    },
    {
      "cell_type": "code",
      "metadata": {
        "colab": {
          "base_uri": "https://localhost:8080/"
        },
        "id": "9B_WfvHMFrRQ",
        "outputId": "306f18c8-0597-42d3-9e6d-b9776c013b78"
      },
      "source": [
        "characters = ['dussasana','sakuni','duryodhana','bhishma','krishna','madri','pandu', 'kunti', 'bhima', 'arjuna', 'nakula', 'sahadeva', 'draupadi',]\n",
        "locs = [np.where(words_list == x)[0][0] for x in characters]\n",
        "print(locs)"
      ],
      "execution_count": 36,
      "outputs": [
        {
          "output_type": "stream",
          "text": [
            "[1627, 1626, 1522, 19, 1245, 1500, 1232, 245, 1572, 1381, 1646, 1531, 1603]\n"
          ],
          "name": "stdout"
        }
      ]
    },
    {
      "cell_type": "code",
      "metadata": {
        "colab": {
          "base_uri": "https://localhost:8080/",
          "height": 320
        },
        "id": "ukpaH3h1FxIn",
        "outputId": "4fd44059-6bfa-4487-eb56-c8ea0f3b8f70"
      },
      "source": [
        "fig = plt.figure(figsize=(5,5))\n",
        "ax = fig.add_subplot(111)\n",
        "for character, pos in zip(characters, locs):\n",
        "    m = model_load.wv.get_vector(character)\n",
        "    value = pca.transform([m])[0]\n",
        "    ax.plot(value[0], value[1], \"gx\")\n",
        "    ax.annotate(words_list[pos], xy=value, xytext=value)\n",
        "plt.show()\n",
        "fig.savefig('skipgram.png')"
      ],
      "execution_count": 37,
      "outputs": [
        {
          "output_type": "display_data",
          "data": {
            "image/png": "[encoded data removed]",
            "text/plain": [
              "<Figure size 360x360 with 1 Axes>"
            ]
          },
          "metadata": {
            "tags": [],
            "needs_background": "light"
          }
        }
      ]
    },
    {
      "cell_type": "code",
      "metadata": {
        "colab": {
          "base_uri": "https://localhost:8080/"
        },
        "id": "kE5URhuUF5Oh",
        "outputId": "c6a48f85-91a3-424a-ab11-007840e84c0b"
      },
      "source": [
        "# Persons closer to the characters of our choice based on the word2vec model\n",
        "for character in characters:\n",
        "    near = model_sg.wv.most_similar(character)[:5]\n",
        "    nearNames = [x[0] for x in near]\n",
        "    print(character, ':'.join(nearNames), sep=\"\\t\")"
      ],
      "execution_count": 38,
      "outputs": [
        {
          "output_type": "stream",
          "text": [
            "dussasana\tsakuni:duhsasana:suvala:vikarna:suyodhana\n",
            "sakuni\tsuvala:dussasana:duhsasana:vikarna:valhika\n",
            "duryodhana\tsuyodhana:dussasana:sakuni:duhsasana:jayadratha\n",
            "bhishma\tsomadatta:salya:kripa:aswatthaman:bhurisrava\n",
            "krishna\tkesava:vasudeva:govinda:vibhatsu:madhava\n",
            "madri\tnakula:prishata:sahadeva:valiant:subhadra\n",
            "pandu\tkunti:pritha:madri:subhadra:radha\n",
            "kunti\tpritha:pandu:radha:madri:dhananjaya\n",
            "bhima\tbhimasena:vrikodara:janardana:satyaki:ghatotkacha\n",
            "arjuna\tpartha:phalguna:janardana:dhananjaya:vibhatsu\n",
            "nakula\tsahadeva:madri:chitrasena:yuyudhana:duhsasana\n",
            "sahadeva\tnakula:madri:duhsasana:chitrasena:bhimasena\n",
            "draupadi\tsubhadra:drupada:virata:princess:madri\n"
          ],
          "name": "stdout"
        }
      ]
    },
    {
      "cell_type": "code",
      "metadata": {
        "colab": {
          "base_uri": "https://localhost:8080/"
        },
        "id": "XWCiIm1LGC9O",
        "outputId": "db617c0b-bdb2-48a6-afe5-cc6794134d8a"
      },
      "source": [
        "for character in characters:\n",
        "    near = model_load.wv.most_similar(character)[:5]\n",
        "    nearNames = [x[0] for x in near]\n",
        "    print(character, ':'.join(nearNames), sep=\"\\t\")\n"
      ],
      "execution_count": 39,
      "outputs": [
        {
          "output_type": "stream",
          "text": [
            "dussasana\tsakuni:duhsasana:vikarna:chitrasena:somadatta\n",
            "sakuni\tdussasana:duhsasana:vikarna:suvala:valhika\n",
            "duryodhana\tdussasana:suyodhana:sakuni:jayadratha:dhritarashtra\n",
            "bhishma\tsalya:sanjaya:vaisampayana:savyasachin:kama\n",
            "krishna\tkesava:vasudeva:govinda:madhava:vibhatsu\n",
            "madri\tsomadatta:prishata:subhadra:suvala:valiant\n",
            "pandu\tpritha:kunti:radha:suta:subhadra\n",
            "kunti\tpritha:radha:pandu:suta:subhadra\n",
            "bhima\tbhimasena:vrikodara:abhimanyu:satyaki:dhananjaya\n",
            "arjuna\tpartha:dhananjaya:kama:vibhatsu:vrikodara\n",
            "nakula\tsahadeva:vikarna:aswatthaman:duhsasana:chitrasena\n",
            "sahadeva\tnakula:satyaki:vikarna:duhsasana:dhrishtadyumna\n",
            "draupadi\tdrupada:madri:dussasana:suvala:sakuni\n"
          ],
          "name": "stdout"
        }
      ]
    },
    {
      "cell_type": "code",
      "metadata": {
        "colab": {
          "base_uri": "https://localhost:8080/"
        },
        "id": "KgfX0cpOGP4u",
        "outputId": "6b7688d3-1977-4d8b-82db-79a7f0bbcdef"
      },
      "source": [
        "near[0]"
      ],
      "execution_count": null,
      "outputs": [
        {
          "output_type": "execute_result",
          "data": {
            "text/plain": [
              "('drupada', 0.8605422377586365)"
            ]
          },
          "metadata": {
            "tags": []
          },
          "execution_count": 101
        }
      ]
    },
    {
      "cell_type": "code",
      "metadata": {
        "id": "J_pOrnT4Hokz"
      },
      "source": [
        "#skip-gram is better in this case"
      ],
      "execution_count": 40,
      "outputs": []
    },
    {
      "cell_type": "code",
      "metadata": {
        "id": "7-ocylycY9C_"
      },
      "source": [
        ""
      ],
      "execution_count": null,
      "outputs": []
    }
  ]
}