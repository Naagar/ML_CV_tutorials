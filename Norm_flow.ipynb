{
  "nbformat": 4,
  "nbformat_minor": 0,
  "metadata": {
    "colab": {
      "name": "Norm_flow.ipynb",
      "provenance": []
    },
    "kernelspec": {
      "name": "python3",
      "display_name": "Python 3"
    },
    "language_info": {
      "name": "python"
    }
  },
  "cells": [
    {
      "cell_type": "code",
      "metadata": {
        "id": "-DNrn7gGOxvh"
      },
      "source": [
        "import numpy as np\n",
        "import tensorflow as tf"
      ],
      "execution_count": 1,
      "outputs": []
    },
    {
      "cell_type": "code",
      "metadata": {
        "id": "GXPBA3aVO8hG"
      },
      "source": [
        "h = 3\n",
        "w = 3\n",
        "n_in = 1\n",
        "n_out = 1\n",
        "# k_size = h\n",
        "ksize = 3\n",
        "n_channels = 1"
      ],
      "execution_count": 2,
      "outputs": []
    },
    {
      "cell_type": "code",
      "metadata": {
        "id": "U8lUl-DeN_Hr"
      },
      "source": [
        "def get_linear_ar_mask(n_in, n_out, zerodiagonal=False):\n",
        "    assert n_in % n_out == 0 or n_out % n_in == 0, \"%d - %d\" % (n_in, n_out)\n",
        "\n",
        "    mask = np.ones([n_in, n_out], dtype=np.float32)\n",
        "    if n_out >= n_in:\n",
        "        k = n_out // n_in\n",
        "        for i in range(n_in):\n",
        "            mask[i + 1:, i * k:(i + 1) * k] = 0\n",
        "            if zerodiagonal:\n",
        "                mask[i:i + 1, i * k:(i + 1) * k] = 0\n",
        "    else:\n",
        "        k = n_in // n_out\n",
        "        for i in range(n_out):\n",
        "            mask[(i + 1) * k:, i:i + 1] = 0\n",
        "            if zerodiagonal:\n",
        "                mask[i * k:(i + 1) * k:, i:i + 1] = 0\n",
        "    return mask"
      ],
      "execution_count": 3,
      "outputs": []
    },
    {
      "cell_type": "code",
      "metadata": {
        "id": "OlCvayAGOFCz"
      },
      "source": [
        "def get_conv_ar_mask(h, w, n_in, n_out, zerodiagonal=False):\n",
        "    \"\"\"\n",
        "    Function to get autoregressive convolution\n",
        "    \"\"\"\n",
        "    l = (h - 1) // 2\n",
        "    m = (w - 1) // 2\n",
        "    mask = np.ones([h, w, n_in, n_out], dtype=np.float32)\n",
        "    mask[:l, :, :, :] = 0\n",
        "    mask[l, :m, :, :] = 0\n",
        "    mask[l, m, :, :] = get_linear_ar_mask(n_in, n_out, zerodiagonal)\n",
        "    return mask"
      ],
      "execution_count": 4,
      "outputs": []
    },
    {
      "cell_type": "code",
      "metadata": {
        "id": "3ltlsDpzOIU6"
      },
      "source": [
        "def get_conv_square_ar_mask(h, w, n_in, n_out, zerodiagonal=False):\n",
        "    \"\"\"\n",
        "    Function to get autoregressive convolution with square shape.\n",
        "    \"\"\"\n",
        "    l = (h - 1) // 2\n",
        "    m = (w - 1) // 2\n",
        "    mask = np.ones([h, w, n_in, n_out], dtype=np.float32)\n",
        "    mask[:l, :, :, :] = 0\n",
        "    mask[:, :m, :, :] = 0\n",
        "    mask[l, m, :, :] = get_linear_ar_mask(n_in, n_out, zerodiagonal)\n",
        "    return mask"
      ],
      "execution_count": 5,
      "outputs": []
    },
    {
      "cell_type": "code",
      "metadata": {
        "id": "RzBSv5fxPYrG"
      },
      "source": [
        "def get_conv_weight_np(filter_shape, stable_init=True, unit_testing=False):\n",
        "    weight_np = np.random.randn(*filter_shape) * 0.02\n",
        "    kcent = (filter_shape[0] - 1) // 2\n",
        "    if stable_init or unit_testing:\n",
        "        weight_np[kcent, kcent, :, :] += 1. * np.eye(filter_shape[3])\n",
        "    weight_np = weight_np.astype('float32')\n",
        "    return weight_np\n"
      ],
      "execution_count": 6,
      "outputs": []
    },
    {
      "cell_type": "code",
      "metadata": {
        "colab": {
          "base_uri": "https://localhost:8080/"
        },
        "id": "q2TVEYW-OJJq",
        "outputId": "dc3dd59f-f057-4e87-bfdd-09b3fa986c1f"
      },
      "source": [
        "mask_np = get_conv_square_ar_mask(ksize, ksize, n_channels, n_channels)\n",
        "# print(mask_np[:,:,0,0])\n",
        "mask_upsidedown_np = mask_np[::-1, ::-1, ::-1, ::-1].copy()\n",
        "# print(mask_upsidedown_np[:,:,0,0])\n",
        "\n",
        "mask_upsidedown = tf.constant(mask_upsidedown_np)\n",
        "print(mask_upsidedown[:,:,0,0])\n",
        "\n",
        "# filter_shape = [ksize, ksize, n_channels, n_channels]\n",
        "\n",
        "# w_np = get_conv_weight_np(filter_shape)\n",
        "# print(w_np.shape)"
      ],
      "execution_count": 7,
      "outputs": [
        {
          "output_type": "stream",
          "text": [
            "tf.Tensor(\n",
            "[[1. 1. 0.]\n",
            " [1. 1. 0.]\n",
            " [0. 0. 0.]], shape=(3, 3), dtype=float32)\n"
          ],
          "name": "stdout"
        }
      ]
    },
    {
      "cell_type": "code",
      "metadata": {
        "id": "2lyKkRkvO3I2"
      },
      "source": [
        "# w = tf.compat.v1.get_variable('W', dtype=tf.float32, initializer=w_np)\n",
        "# b = tf.compat.v1.get_variable('b', [n_channels], initializer=tf.zeros_initializer())\n",
        "# b = tf.reshape(b, [1, 1, 1, -1])\n",
        "# # print(w)\n",
        "# print(b)\n",
        "# w = w * mask_upsidedown\n",
        "# # print(w.shape,w)"
      ],
      "execution_count": 9,
      "outputs": []
    },
    {
      "cell_type": "code",
      "metadata": {
        "id": "ixJPSP_GQecM"
      },
      "source": [
        ""
      ],
      "execution_count": null,
      "outputs": []
    }
  ]
}